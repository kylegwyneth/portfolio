{
 "cells": [
  {
   "cell_type": "code",
   "execution_count": 66,
   "id": "1ea7db3e-a742-44bd-a4cd-35aeb762c309",
   "metadata": {},
   "outputs": [],
   "source": [
    "import pandas as pd\n",
    "import numpy as np\n",
    "from datetime import datetime\n",
    "\n",
    "current_date = datetime.now()"
   ]
  },
  {
   "cell_type": "markdown",
   "id": "47966578-4a93-4aa9-addc-feb6a441a4a2",
   "metadata": {},
   "source": [
    "# Loading the Data"
   ]
  },
  {
   "cell_type": "code",
   "execution_count": 67,
   "id": "d3591068-4ef9-4e72-b579-1d349c199d82",
   "metadata": {},
   "outputs": [],
   "source": [
    "df_branch_service = pd.read_json(\"branch_service_transaction_info.json\")\n",
    "df_customer_transaction = pd.read_json(\"customer_transaction_info.json\")"
   ]
  },
  {
   "cell_type": "markdown",
   "id": "b70f7d58-920b-4afb-bdec-6a5a4c702e69",
   "metadata": {},
   "source": [
    "# Profiling the Data"
   ]
  },
  {
   "cell_type": "code",
   "execution_count": 68,
   "id": "ff5431ab-a559-4edc-b782-4eda2d897daa",
   "metadata": {},
   "outputs": [],
   "source": [
    "df_merged = pd.merge(df_customer_transaction, df_branch_service)"
   ]
  },
  {
   "cell_type": "code",
   "execution_count": 69,
   "id": "6f8a9f78-229a-4f08-b792-b501b24c9eef",
   "metadata": {},
   "outputs": [
    {
     "name": "stdout",
     "output_type": "stream",
     "text": [
      "(404187, 8)\n"
     ]
    }
   ],
   "source": [
    "print(df_merged.shape)"
   ]
  },
  {
   "cell_type": "code",
   "execution_count": 70,
   "id": "481e4ffa-f97a-4402-b261-ae95174f0366",
   "metadata": {},
   "outputs": [
    {
     "name": "stdout",
     "output_type": "stream",
     "text": [
      "\n",
      "Information about the dataset:\n",
      "<class 'pandas.core.frame.DataFrame'>\n",
      "RangeIndex: 404187 entries, 0 to 404186\n",
      "Data columns (total 8 columns):\n",
      " #   Column       Non-Null Count   Dtype  \n",
      "---  ------       --------------   -----  \n",
      " 0   txn_id       404187 non-null  object \n",
      " 1   avail_date   404187 non-null  object \n",
      " 2   last_name    404187 non-null  object \n",
      " 3   first_name   404187 non-null  object \n",
      " 4   birthday     404187 non-null  object \n",
      " 5   branch_name  391023 non-null  object \n",
      " 6   service      404187 non-null  object \n",
      " 7   price        312140 non-null  float64\n",
      "dtypes: float64(1), object(7)\n",
      "memory usage: 24.7+ MB\n",
      "None\n"
     ]
    }
   ],
   "source": [
    "print(\"\\nInformation about the dataset:\")\n",
    "print(df_merged.info())"
   ]
  },
  {
   "cell_type": "code",
   "execution_count": 71,
   "id": "988e6c4c-3b0b-4f06-b47f-57366102afa4",
   "metadata": {},
   "outputs": [
    {
     "data": {
      "text/html": [
       "<div>\n",
       "<style scoped>\n",
       "    .dataframe tbody tr th:only-of-type {\n",
       "        vertical-align: middle;\n",
       "    }\n",
       "\n",
       "    .dataframe tbody tr th {\n",
       "        vertical-align: top;\n",
       "    }\n",
       "\n",
       "    .dataframe thead th {\n",
       "        text-align: right;\n",
       "    }\n",
       "</style>\n",
       "<table border=\"1\" class=\"dataframe\">\n",
       "  <thead>\n",
       "    <tr style=\"text-align: right;\">\n",
       "      <th></th>\n",
       "      <th>txn_id</th>\n",
       "      <th>avail_date</th>\n",
       "      <th>last_name</th>\n",
       "      <th>first_name</th>\n",
       "      <th>birthday</th>\n",
       "      <th>branch_name</th>\n",
       "      <th>service</th>\n",
       "      <th>price</th>\n",
       "    </tr>\n",
       "  </thead>\n",
       "  <tbody>\n",
       "    <tr>\n",
       "      <th>0</th>\n",
       "      <td>TXN-24546</td>\n",
       "      <td>2030-09-08</td>\n",
       "      <td>ORTIZ</td>\n",
       "      <td>EDUARDO</td>\n",
       "      <td>1990-07-08</td>\n",
       "      <td>MallOfAsia</td>\n",
       "      <td>Manicure</td>\n",
       "      <td>NaN</td>\n",
       "    </tr>\n",
       "    <tr>\n",
       "      <th>1</th>\n",
       "      <td>TXN-24546</td>\n",
       "      <td>2030-09-08</td>\n",
       "      <td>ORTIZ</td>\n",
       "      <td>EDUARDO</td>\n",
       "      <td>1990-07-08</td>\n",
       "      <td>MallOfAsia</td>\n",
       "      <td>Manicure</td>\n",
       "      <td>55.23240</td>\n",
       "    </tr>\n",
       "    <tr>\n",
       "      <th>2</th>\n",
       "      <td>TXN-24546</td>\n",
       "      <td>2012-04-03</td>\n",
       "      <td>Ortiz</td>\n",
       "      <td>Eduardo</td>\n",
       "      <td>1999-04-08</td>\n",
       "      <td>MallOfAsia</td>\n",
       "      <td>Manicure</td>\n",
       "      <td>NaN</td>\n",
       "    </tr>\n",
       "    <tr>\n",
       "      <th>3</th>\n",
       "      <td>TXN-24546</td>\n",
       "      <td>2012-04-03</td>\n",
       "      <td>Ortiz</td>\n",
       "      <td>Eduardo</td>\n",
       "      <td>1999-04-08</td>\n",
       "      <td>MallOfAsia</td>\n",
       "      <td>Manicure</td>\n",
       "      <td>55.23240</td>\n",
       "    </tr>\n",
       "    <tr>\n",
       "      <th>4</th>\n",
       "      <td>TXN-14642</td>\n",
       "      <td>2026-05-26</td>\n",
       "      <td>NIENOW</td>\n",
       "      <td>LEA</td>\n",
       "      <td>2000-11-26</td>\n",
       "      <td>Starmall</td>\n",
       "      <td>HairColor</td>\n",
       "      <td>NaN</td>\n",
       "    </tr>\n",
       "    <tr>\n",
       "      <th>5</th>\n",
       "      <td>TXN-14642</td>\n",
       "      <td>2026-05-26</td>\n",
       "      <td>NIENOW</td>\n",
       "      <td>LEA</td>\n",
       "      <td>2000-11-26</td>\n",
       "      <td>Starmall</td>\n",
       "      <td>HairColor</td>\n",
       "      <td>88.09393</td>\n",
       "    </tr>\n",
       "    <tr>\n",
       "      <th>6</th>\n",
       "      <td>TXN-14642</td>\n",
       "      <td>2006-11-15</td>\n",
       "      <td>Nienow</td>\n",
       "      <td>Lea</td>\n",
       "      <td>1995-03-14</td>\n",
       "      <td>Starmall</td>\n",
       "      <td>HairColor</td>\n",
       "      <td>NaN</td>\n",
       "    </tr>\n",
       "    <tr>\n",
       "      <th>7</th>\n",
       "      <td>TXN-14642</td>\n",
       "      <td>2006-11-15</td>\n",
       "      <td>Nienow</td>\n",
       "      <td>Lea</td>\n",
       "      <td>1995-03-14</td>\n",
       "      <td>Starmall</td>\n",
       "      <td>HairColor</td>\n",
       "      <td>88.09393</td>\n",
       "    </tr>\n",
       "    <tr>\n",
       "      <th>8</th>\n",
       "      <td>TXN-60295</td>\n",
       "      <td>2006-09-25</td>\n",
       "      <td>LESCH</td>\n",
       "      <td>FLETA</td>\n",
       "      <td>1993-05-22</td>\n",
       "      <td>SmallMall</td>\n",
       "      <td>FootSpa</td>\n",
       "      <td>NaN</td>\n",
       "    </tr>\n",
       "    <tr>\n",
       "      <th>9</th>\n",
       "      <td>TXN-60295</td>\n",
       "      <td>2006-09-25</td>\n",
       "      <td>LESCH</td>\n",
       "      <td>FLETA</td>\n",
       "      <td>1993-05-22</td>\n",
       "      <td>Starmall</td>\n",
       "      <td>FootSpa</td>\n",
       "      <td>NaN</td>\n",
       "    </tr>\n",
       "  </tbody>\n",
       "</table>\n",
       "</div>"
      ],
      "text/plain": [
       "      txn_id  avail_date last_name first_name    birthday branch_name  \\\n",
       "0  TXN-24546  2030-09-08     ORTIZ    EDUARDO  1990-07-08  MallOfAsia   \n",
       "1  TXN-24546  2030-09-08     ORTIZ    EDUARDO  1990-07-08  MallOfAsia   \n",
       "2  TXN-24546  2012-04-03     Ortiz    Eduardo  1999-04-08  MallOfAsia   \n",
       "3  TXN-24546  2012-04-03     Ortiz    Eduardo  1999-04-08  MallOfAsia   \n",
       "4  TXN-14642  2026-05-26    NIENOW        LEA  2000-11-26    Starmall   \n",
       "5  TXN-14642  2026-05-26    NIENOW        LEA  2000-11-26    Starmall   \n",
       "6  TXN-14642  2006-11-15    Nienow        Lea  1995-03-14    Starmall   \n",
       "7  TXN-14642  2006-11-15    Nienow        Lea  1995-03-14    Starmall   \n",
       "8  TXN-60295  2006-09-25     LESCH      FLETA  1993-05-22   SmallMall   \n",
       "9  TXN-60295  2006-09-25     LESCH      FLETA  1993-05-22    Starmall   \n",
       "\n",
       "     service     price  \n",
       "0   Manicure       NaN  \n",
       "1   Manicure  55.23240  \n",
       "2   Manicure       NaN  \n",
       "3   Manicure  55.23240  \n",
       "4  HairColor       NaN  \n",
       "5  HairColor  88.09393  \n",
       "6  HairColor       NaN  \n",
       "7  HairColor  88.09393  \n",
       "8    FootSpa       NaN  \n",
       "9    FootSpa       NaN  "
      ]
     },
     "execution_count": 71,
     "metadata": {},
     "output_type": "execute_result"
    }
   ],
   "source": [
    "df_merged.head(10)"
   ]
  },
  {
   "cell_type": "code",
   "execution_count": 72,
   "id": "d184ca83-d5dc-486f-8a06-a4c093d0f3ac",
   "metadata": {},
   "outputs": [
    {
     "data": {
      "text/html": [
       "<div>\n",
       "<style scoped>\n",
       "    .dataframe tbody tr th:only-of-type {\n",
       "        vertical-align: middle;\n",
       "    }\n",
       "\n",
       "    .dataframe tbody tr th {\n",
       "        vertical-align: top;\n",
       "    }\n",
       "\n",
       "    .dataframe thead th {\n",
       "        text-align: right;\n",
       "    }\n",
       "</style>\n",
       "<table border=\"1\" class=\"dataframe\">\n",
       "  <thead>\n",
       "    <tr style=\"text-align: right;\">\n",
       "      <th></th>\n",
       "      <th>txn_id</th>\n",
       "      <th>avail_date</th>\n",
       "      <th>last_name</th>\n",
       "      <th>first_name</th>\n",
       "      <th>birthday</th>\n",
       "      <th>branch_name</th>\n",
       "      <th>service</th>\n",
       "      <th>price</th>\n",
       "    </tr>\n",
       "  </thead>\n",
       "  <tbody>\n",
       "    <tr>\n",
       "      <th>404177</th>\n",
       "      <td>TXN-43076</td>\n",
       "      <td>2021-02-27</td>\n",
       "      <td>Champlin</td>\n",
       "      <td>Queen</td>\n",
       "      <td>1995-03-29</td>\n",
       "      <td>MayMall</td>\n",
       "      <td>Haircut</td>\n",
       "      <td>66.123457</td>\n",
       "    </tr>\n",
       "    <tr>\n",
       "      <th>404178</th>\n",
       "      <td>TXN-43065</td>\n",
       "      <td>2025-01-05</td>\n",
       "      <td>Wyman</td>\n",
       "      <td>Giovanny</td>\n",
       "      <td>1993-01-10</td>\n",
       "      <td>Megamall</td>\n",
       "      <td>Rebond</td>\n",
       "      <td>400.231230</td>\n",
       "    </tr>\n",
       "    <tr>\n",
       "      <th>404179</th>\n",
       "      <td>TXN-43065</td>\n",
       "      <td>2025-01-05</td>\n",
       "      <td>Wyman</td>\n",
       "      <td>Giovanny</td>\n",
       "      <td>1993-01-10</td>\n",
       "      <td>MallOfAsia</td>\n",
       "      <td>Rebond</td>\n",
       "      <td>400.231230</td>\n",
       "    </tr>\n",
       "    <tr>\n",
       "      <th>404180</th>\n",
       "      <td>TXN-43065</td>\n",
       "      <td>2025-01-05</td>\n",
       "      <td>Wyman</td>\n",
       "      <td>Giovanny</td>\n",
       "      <td>1993-01-10</td>\n",
       "      <td>SmallMall</td>\n",
       "      <td>Rebond</td>\n",
       "      <td>400.231230</td>\n",
       "    </tr>\n",
       "    <tr>\n",
       "      <th>404181</th>\n",
       "      <td>TXN-43065</td>\n",
       "      <td>2025-01-05</td>\n",
       "      <td>Wyman</td>\n",
       "      <td>Giovanny</td>\n",
       "      <td>1993-01-10</td>\n",
       "      <td>Megamall</td>\n",
       "      <td>Rebond</td>\n",
       "      <td>400.231230</td>\n",
       "    </tr>\n",
       "    <tr>\n",
       "      <th>404182</th>\n",
       "      <td>TXN-43065</td>\n",
       "      <td>2025-01-05</td>\n",
       "      <td>Wyman</td>\n",
       "      <td>Giovanny</td>\n",
       "      <td>1993-01-10</td>\n",
       "      <td>MallOfAsia</td>\n",
       "      <td>Rebond</td>\n",
       "      <td>400.231230</td>\n",
       "    </tr>\n",
       "    <tr>\n",
       "      <th>404183</th>\n",
       "      <td>TXN-43065</td>\n",
       "      <td>2025-01-05</td>\n",
       "      <td>Wyman</td>\n",
       "      <td>Giovanny</td>\n",
       "      <td>1993-01-10</td>\n",
       "      <td>SmallMall</td>\n",
       "      <td>Rebond</td>\n",
       "      <td>400.231230</td>\n",
       "    </tr>\n",
       "    <tr>\n",
       "      <th>404184</th>\n",
       "      <td>TXN-43065</td>\n",
       "      <td>2025-01-05</td>\n",
       "      <td>Wyman</td>\n",
       "      <td>Giovanny</td>\n",
       "      <td>1993-01-10</td>\n",
       "      <td>Megamall</td>\n",
       "      <td>Rebond</td>\n",
       "      <td>400.231230</td>\n",
       "    </tr>\n",
       "    <tr>\n",
       "      <th>404185</th>\n",
       "      <td>TXN-43065</td>\n",
       "      <td>2025-01-05</td>\n",
       "      <td>Wyman</td>\n",
       "      <td>Giovanny</td>\n",
       "      <td>1993-01-10</td>\n",
       "      <td>MallOfAsia</td>\n",
       "      <td>Rebond</td>\n",
       "      <td>400.231230</td>\n",
       "    </tr>\n",
       "    <tr>\n",
       "      <th>404186</th>\n",
       "      <td>TXN-43065</td>\n",
       "      <td>2025-01-05</td>\n",
       "      <td>Wyman</td>\n",
       "      <td>Giovanny</td>\n",
       "      <td>1993-01-10</td>\n",
       "      <td>SmallMall</td>\n",
       "      <td>Rebond</td>\n",
       "      <td>400.231230</td>\n",
       "    </tr>\n",
       "  </tbody>\n",
       "</table>\n",
       "</div>"
      ],
      "text/plain": [
       "           txn_id  avail_date last_name first_name    birthday branch_name  \\\n",
       "404177  TXN-43076  2021-02-27  Champlin      Queen  1995-03-29     MayMall   \n",
       "404178  TXN-43065  2025-01-05     Wyman   Giovanny  1993-01-10    Megamall   \n",
       "404179  TXN-43065  2025-01-05     Wyman   Giovanny  1993-01-10  MallOfAsia   \n",
       "404180  TXN-43065  2025-01-05     Wyman   Giovanny  1993-01-10   SmallMall   \n",
       "404181  TXN-43065  2025-01-05     Wyman   Giovanny  1993-01-10    Megamall   \n",
       "404182  TXN-43065  2025-01-05     Wyman   Giovanny  1993-01-10  MallOfAsia   \n",
       "404183  TXN-43065  2025-01-05     Wyman   Giovanny  1993-01-10   SmallMall   \n",
       "404184  TXN-43065  2025-01-05     Wyman   Giovanny  1993-01-10    Megamall   \n",
       "404185  TXN-43065  2025-01-05     Wyman   Giovanny  1993-01-10  MallOfAsia   \n",
       "404186  TXN-43065  2025-01-05     Wyman   Giovanny  1993-01-10   SmallMall   \n",
       "\n",
       "        service       price  \n",
       "404177  Haircut   66.123457  \n",
       "404178   Rebond  400.231230  \n",
       "404179   Rebond  400.231230  \n",
       "404180   Rebond  400.231230  \n",
       "404181   Rebond  400.231230  \n",
       "404182   Rebond  400.231230  \n",
       "404183   Rebond  400.231230  \n",
       "404184   Rebond  400.231230  \n",
       "404185   Rebond  400.231230  \n",
       "404186   Rebond  400.231230  "
      ]
     },
     "execution_count": 72,
     "metadata": {},
     "output_type": "execute_result"
    }
   ],
   "source": [
    "df_merged.tail(10)"
   ]
  },
  {
   "cell_type": "markdown",
   "id": "673bea0c-97a9-478b-9773-4f8a215e625b",
   "metadata": {},
   "source": [
    "### Null values count"
   ]
  },
  {
   "cell_type": "code",
   "execution_count": 73,
   "id": "ef57fd41-880c-47a4-8fab-e158b3e53d7b",
   "metadata": {},
   "outputs": [
    {
     "name": "stdout",
     "output_type": "stream",
     "text": [
      "txn_id             0\n",
      "avail_date         0\n",
      "last_name          0\n",
      "first_name         0\n",
      "birthday           0\n",
      "branch_name    13164\n",
      "service            0\n",
      "price          92047\n",
      "dtype: int64\n"
     ]
    }
   ],
   "source": [
    "print(df_merged.isnull().sum())"
   ]
  },
  {
   "cell_type": "markdown",
   "id": "95e1e9f5-9e98-4535-96a3-8343743e1311",
   "metadata": {},
   "source": [
    "### Count of service with 0 price"
   ]
  },
  {
   "cell_type": "code",
   "execution_count": 74,
   "id": "0a3fe6ee-ed18-4c63-9d91-422222756f55",
   "metadata": {},
   "outputs": [
    {
     "data": {
      "text/plain": [
       "47844"
      ]
     },
     "execution_count": 74,
     "metadata": {},
     "output_type": "execute_result"
    }
   ],
   "source": [
    "df_merged['price'].value_counts()[0.0]"
   ]
  },
  {
   "cell_type": "code",
   "execution_count": 75,
   "id": "560b8c4f-74c7-4f2a-9132-a36c8b088ff0",
   "metadata": {},
   "outputs": [
    {
     "data": {
      "text/html": [
       "<div>\n",
       "<style scoped>\n",
       "    .dataframe tbody tr th:only-of-type {\n",
       "        vertical-align: middle;\n",
       "    }\n",
       "\n",
       "    .dataframe tbody tr th {\n",
       "        vertical-align: top;\n",
       "    }\n",
       "\n",
       "    .dataframe thead th {\n",
       "        text-align: right;\n",
       "    }\n",
       "</style>\n",
       "<table border=\"1\" class=\"dataframe\">\n",
       "  <thead>\n",
       "    <tr style=\"text-align: right;\">\n",
       "      <th></th>\n",
       "      <th>txn_id</th>\n",
       "      <th>avail_date</th>\n",
       "      <th>last_name</th>\n",
       "      <th>first_name</th>\n",
       "      <th>birthday</th>\n",
       "      <th>branch_name</th>\n",
       "      <th>service</th>\n",
       "      <th>price</th>\n",
       "    </tr>\n",
       "  </thead>\n",
       "  <tbody>\n",
       "    <tr>\n",
       "      <th>200000</th>\n",
       "      <td>TXN-11357</td>\n",
       "      <td>2013-05-27</td>\n",
       "      <td>runte</td>\n",
       "      <td>kurtis</td>\n",
       "      <td>2007-03-10</td>\n",
       "      <td>SmallMall</td>\n",
       "      <td>Rebond</td>\n",
       "      <td>0.0</td>\n",
       "    </tr>\n",
       "    <tr>\n",
       "      <th>200001</th>\n",
       "      <td>TXN-11357</td>\n",
       "      <td>2013-05-27</td>\n",
       "      <td>runte</td>\n",
       "      <td>kurtis</td>\n",
       "      <td>2007-03-10</td>\n",
       "      <td>RobinsonsMall</td>\n",
       "      <td>Rebond</td>\n",
       "      <td>0.0</td>\n",
       "    </tr>\n",
       "    <tr>\n",
       "      <th>200002</th>\n",
       "      <td>TXN-11357</td>\n",
       "      <td>2013-05-27</td>\n",
       "      <td>runte</td>\n",
       "      <td>kurtis</td>\n",
       "      <td>2007-03-10</td>\n",
       "      <td>MayMall</td>\n",
       "      <td>Rebond</td>\n",
       "      <td>0.0</td>\n",
       "    </tr>\n",
       "    <tr>\n",
       "      <th>200003</th>\n",
       "      <td>TXN-11357</td>\n",
       "      <td>2013-05-27</td>\n",
       "      <td>runte</td>\n",
       "      <td>kurtis</td>\n",
       "      <td>2007-03-10</td>\n",
       "      <td>SmallMall</td>\n",
       "      <td>Rebond</td>\n",
       "      <td>0.0</td>\n",
       "    </tr>\n",
       "    <tr>\n",
       "      <th>200004</th>\n",
       "      <td>TXN-11357</td>\n",
       "      <td>2013-05-27</td>\n",
       "      <td>runte</td>\n",
       "      <td>kurtis</td>\n",
       "      <td>2007-03-10</td>\n",
       "      <td>SmallMall</td>\n",
       "      <td>Rebond</td>\n",
       "      <td>0.0</td>\n",
       "    </tr>\n",
       "    <tr>\n",
       "      <th>200005</th>\n",
       "      <td>TXN-11357</td>\n",
       "      <td>2013-05-27</td>\n",
       "      <td>runte</td>\n",
       "      <td>kurtis</td>\n",
       "      <td>2007-03-10</td>\n",
       "      <td>RobinsonsMall</td>\n",
       "      <td>Rebond</td>\n",
       "      <td>0.0</td>\n",
       "    </tr>\n",
       "    <tr>\n",
       "      <th>200006</th>\n",
       "      <td>TXN-11357</td>\n",
       "      <td>2013-05-27</td>\n",
       "      <td>runte</td>\n",
       "      <td>kurtis</td>\n",
       "      <td>2007-03-10</td>\n",
       "      <td>MayMall</td>\n",
       "      <td>Rebond</td>\n",
       "      <td>0.0</td>\n",
       "    </tr>\n",
       "    <tr>\n",
       "      <th>200007</th>\n",
       "      <td>TXN-11357</td>\n",
       "      <td>2013-05-27</td>\n",
       "      <td>runte</td>\n",
       "      <td>kurtis</td>\n",
       "      <td>2007-03-10</td>\n",
       "      <td>SmallMall</td>\n",
       "      <td>Rebond</td>\n",
       "      <td>0.0</td>\n",
       "    </tr>\n",
       "    <tr>\n",
       "      <th>200008</th>\n",
       "      <td>TXN-11357</td>\n",
       "      <td>2013-05-27</td>\n",
       "      <td>runte</td>\n",
       "      <td>kurtis</td>\n",
       "      <td>2007-03-10</td>\n",
       "      <td>SmallMall</td>\n",
       "      <td>Rebond</td>\n",
       "      <td>0.0</td>\n",
       "    </tr>\n",
       "    <tr>\n",
       "      <th>200009</th>\n",
       "      <td>TXN-11357</td>\n",
       "      <td>2013-05-27</td>\n",
       "      <td>runte</td>\n",
       "      <td>kurtis</td>\n",
       "      <td>2007-03-10</td>\n",
       "      <td>RobinsonsMall</td>\n",
       "      <td>Rebond</td>\n",
       "      <td>0.0</td>\n",
       "    </tr>\n",
       "  </tbody>\n",
       "</table>\n",
       "</div>"
      ],
      "text/plain": [
       "           txn_id  avail_date last_name first_name    birthday    branch_name  \\\n",
       "200000  TXN-11357  2013-05-27     runte     kurtis  2007-03-10      SmallMall   \n",
       "200001  TXN-11357  2013-05-27     runte     kurtis  2007-03-10  RobinsonsMall   \n",
       "200002  TXN-11357  2013-05-27     runte     kurtis  2007-03-10        MayMall   \n",
       "200003  TXN-11357  2013-05-27     runte     kurtis  2007-03-10      SmallMall   \n",
       "200004  TXN-11357  2013-05-27     runte     kurtis  2007-03-10      SmallMall   \n",
       "200005  TXN-11357  2013-05-27     runte     kurtis  2007-03-10  RobinsonsMall   \n",
       "200006  TXN-11357  2013-05-27     runte     kurtis  2007-03-10        MayMall   \n",
       "200007  TXN-11357  2013-05-27     runte     kurtis  2007-03-10      SmallMall   \n",
       "200008  TXN-11357  2013-05-27     runte     kurtis  2007-03-10      SmallMall   \n",
       "200009  TXN-11357  2013-05-27     runte     kurtis  2007-03-10  RobinsonsMall   \n",
       "\n",
       "       service  price  \n",
       "200000  Rebond    0.0  \n",
       "200001  Rebond    0.0  \n",
       "200002  Rebond    0.0  \n",
       "200003  Rebond    0.0  \n",
       "200004  Rebond    0.0  \n",
       "200005  Rebond    0.0  \n",
       "200006  Rebond    0.0  \n",
       "200007  Rebond    0.0  \n",
       "200008  Rebond    0.0  \n",
       "200009  Rebond    0.0  "
      ]
     },
     "execution_count": 75,
     "metadata": {},
     "output_type": "execute_result"
    }
   ],
   "source": [
    "df_merged.iloc[200000:200010]"
   ]
  },
  {
   "cell_type": "code",
   "execution_count": 76,
   "id": "a99e152c-0a12-4385-bc34-0053d0f71db5",
   "metadata": {},
   "outputs": [
    {
     "data": {
      "text/html": [
       "<div>\n",
       "<style scoped>\n",
       "    .dataframe tbody tr th:only-of-type {\n",
       "        vertical-align: middle;\n",
       "    }\n",
       "\n",
       "    .dataframe tbody tr th {\n",
       "        vertical-align: top;\n",
       "    }\n",
       "\n",
       "    .dataframe thead th {\n",
       "        text-align: right;\n",
       "    }\n",
       "</style>\n",
       "<table border=\"1\" class=\"dataframe\">\n",
       "  <thead>\n",
       "    <tr style=\"text-align: right;\">\n",
       "      <th></th>\n",
       "      <th>txn_id</th>\n",
       "      <th>avail_date</th>\n",
       "      <th>last_name</th>\n",
       "      <th>first_name</th>\n",
       "      <th>birthday</th>\n",
       "      <th>branch_name</th>\n",
       "      <th>service</th>\n",
       "      <th>price</th>\n",
       "    </tr>\n",
       "  </thead>\n",
       "  <tbody>\n",
       "    <tr>\n",
       "      <th>280000</th>\n",
       "      <td>TXN-54447</td>\n",
       "      <td>2008-02-10</td>\n",
       "      <td>Bashirian,,,,,,,,</td>\n",
       "      <td>Daniela........</td>\n",
       "      <td>1997-08-22</td>\n",
       "      <td>FrankMall</td>\n",
       "      <td>HairColor</td>\n",
       "      <td>88.093930</td>\n",
       "    </tr>\n",
       "    <tr>\n",
       "      <th>280001</th>\n",
       "      <td>TXN-54447</td>\n",
       "      <td>2008-02-10</td>\n",
       "      <td>Bashirian,,,,,,,,</td>\n",
       "      <td>Daniela........</td>\n",
       "      <td>1997-08-22</td>\n",
       "      <td>Megamall</td>\n",
       "      <td>HairColor</td>\n",
       "      <td>88.093930</td>\n",
       "    </tr>\n",
       "    <tr>\n",
       "      <th>280002</th>\n",
       "      <td>TXN-54447</td>\n",
       "      <td>2008-02-10</td>\n",
       "      <td>Bashirian,,,,,,,,</td>\n",
       "      <td>Daniela........</td>\n",
       "      <td>1997-08-22</td>\n",
       "      <td>Starmall</td>\n",
       "      <td>HairColor</td>\n",
       "      <td>88.093930</td>\n",
       "    </tr>\n",
       "    <tr>\n",
       "      <th>280003</th>\n",
       "      <td>TXN-54447</td>\n",
       "      <td>2008-02-10</td>\n",
       "      <td>Bashirian,,,,,,,,</td>\n",
       "      <td>Daniela........</td>\n",
       "      <td>1997-08-22</td>\n",
       "      <td>FrankMall</td>\n",
       "      <td>HairColor</td>\n",
       "      <td>88.093930</td>\n",
       "    </tr>\n",
       "    <tr>\n",
       "      <th>280004</th>\n",
       "      <td>TXN-54447</td>\n",
       "      <td>2008-02-10</td>\n",
       "      <td>Bashirian,,,,,,,,</td>\n",
       "      <td>Daniela........</td>\n",
       "      <td>1997-08-22</td>\n",
       "      <td>Megamall</td>\n",
       "      <td>HairColor</td>\n",
       "      <td>88.093930</td>\n",
       "    </tr>\n",
       "    <tr>\n",
       "      <th>280005</th>\n",
       "      <td>TXN-54447</td>\n",
       "      <td>2008-02-10</td>\n",
       "      <td>Bashirian,,,,,,,,</td>\n",
       "      <td>Daniela........</td>\n",
       "      <td>1997-08-22</td>\n",
       "      <td>Starmall</td>\n",
       "      <td>HairColor</td>\n",
       "      <td>88.093930</td>\n",
       "    </tr>\n",
       "    <tr>\n",
       "      <th>280006</th>\n",
       "      <td>TXN-54447</td>\n",
       "      <td>2008-02-10</td>\n",
       "      <td>Bashirian,,,,,,,,</td>\n",
       "      <td>Daniela........</td>\n",
       "      <td>1997-08-22</td>\n",
       "      <td>FrankMall</td>\n",
       "      <td>HairColor</td>\n",
       "      <td>88.093930</td>\n",
       "    </tr>\n",
       "    <tr>\n",
       "      <th>280007</th>\n",
       "      <td>TXN-49770</td>\n",
       "      <td>2009-05-03</td>\n",
       "      <td>Wisozk,,,,,,,,</td>\n",
       "      <td>Neil........</td>\n",
       "      <td>2000-11-28</td>\n",
       "      <td></td>\n",
       "      <td>Haircut</td>\n",
       "      <td>66.123457</td>\n",
       "    </tr>\n",
       "    <tr>\n",
       "      <th>280008</th>\n",
       "      <td>TXN-55643</td>\n",
       "      <td>2026-05-04</td>\n",
       "      <td>Runolfsson,,,,,,,,</td>\n",
       "      <td>Ervin........</td>\n",
       "      <td>1997-01-13</td>\n",
       "      <td>MayMall</td>\n",
       "      <td>FootSpa</td>\n",
       "      <td>100.121230</td>\n",
       "    </tr>\n",
       "    <tr>\n",
       "      <th>280009</th>\n",
       "      <td>TXN-61827</td>\n",
       "      <td>2027-08-20</td>\n",
       "      <td>Von,,,,,,,,</td>\n",
       "      <td>Vernon........</td>\n",
       "      <td>1992-10-17</td>\n",
       "      <td>None</td>\n",
       "      <td>FootSpa</td>\n",
       "      <td>100.121230</td>\n",
       "    </tr>\n",
       "  </tbody>\n",
       "</table>\n",
       "</div>"
      ],
      "text/plain": [
       "           txn_id  avail_date           last_name       first_name  \\\n",
       "280000  TXN-54447  2008-02-10   Bashirian,,,,,,,,  Daniela........   \n",
       "280001  TXN-54447  2008-02-10   Bashirian,,,,,,,,  Daniela........   \n",
       "280002  TXN-54447  2008-02-10   Bashirian,,,,,,,,  Daniela........   \n",
       "280003  TXN-54447  2008-02-10   Bashirian,,,,,,,,  Daniela........   \n",
       "280004  TXN-54447  2008-02-10   Bashirian,,,,,,,,  Daniela........   \n",
       "280005  TXN-54447  2008-02-10   Bashirian,,,,,,,,  Daniela........   \n",
       "280006  TXN-54447  2008-02-10   Bashirian,,,,,,,,  Daniela........   \n",
       "280007  TXN-49770  2009-05-03      Wisozk,,,,,,,,     Neil........   \n",
       "280008  TXN-55643  2026-05-04  Runolfsson,,,,,,,,    Ervin........   \n",
       "280009  TXN-61827  2027-08-20         Von,,,,,,,,   Vernon........   \n",
       "\n",
       "          birthday branch_name    service       price  \n",
       "280000  1997-08-22   FrankMall  HairColor   88.093930  \n",
       "280001  1997-08-22    Megamall  HairColor   88.093930  \n",
       "280002  1997-08-22    Starmall  HairColor   88.093930  \n",
       "280003  1997-08-22   FrankMall  HairColor   88.093930  \n",
       "280004  1997-08-22    Megamall  HairColor   88.093930  \n",
       "280005  1997-08-22    Starmall  HairColor   88.093930  \n",
       "280006  1997-08-22   FrankMall  HairColor   88.093930  \n",
       "280007  2000-11-28                Haircut   66.123457  \n",
       "280008  1997-01-13     MayMall    FootSpa  100.121230  \n",
       "280009  1992-10-17        None    FootSpa  100.121230  "
      ]
     },
     "execution_count": 76,
     "metadata": {},
     "output_type": "execute_result"
    }
   ],
   "source": [
    "df_merged.iloc[280000:280010]"
   ]
  },
  {
   "cell_type": "code",
   "execution_count": 77,
   "id": "4f17a7c7-7c7b-4d5c-8e73-55a8bd110495",
   "metadata": {},
   "outputs": [
    {
     "data": {
      "text/html": [
       "<div>\n",
       "<style scoped>\n",
       "    .dataframe tbody tr th:only-of-type {\n",
       "        vertical-align: middle;\n",
       "    }\n",
       "\n",
       "    .dataframe tbody tr th {\n",
       "        vertical-align: top;\n",
       "    }\n",
       "\n",
       "    .dataframe thead th {\n",
       "        text-align: right;\n",
       "    }\n",
       "</style>\n",
       "<table border=\"1\" class=\"dataframe\">\n",
       "  <thead>\n",
       "    <tr style=\"text-align: right;\">\n",
       "      <th></th>\n",
       "      <th>txn_id</th>\n",
       "      <th>avail_date</th>\n",
       "      <th>last_name</th>\n",
       "      <th>first_name</th>\n",
       "      <th>birthday</th>\n",
       "      <th>branch_name</th>\n",
       "      <th>service</th>\n",
       "      <th>price</th>\n",
       "    </tr>\n",
       "  </thead>\n",
       "  <tbody>\n",
       "    <tr>\n",
       "      <th>400000</th>\n",
       "      <td>TXN-18595</td>\n",
       "      <td>2018-04-20</td>\n",
       "      <td>Durgan</td>\n",
       "      <td>Melisa</td>\n",
       "      <td>1997-10-21</td>\n",
       "      <td>MallOfAsia</td>\n",
       "      <td>Haircut</td>\n",
       "      <td>66.123457</td>\n",
       "    </tr>\n",
       "    <tr>\n",
       "      <th>400001</th>\n",
       "      <td>TXN-02730</td>\n",
       "      <td>2009-07-10</td>\n",
       "      <td>Schroeder</td>\n",
       "      <td>Lucinda</td>\n",
       "      <td>1991-12-30</td>\n",
       "      <td>None</td>\n",
       "      <td>FootSpa</td>\n",
       "      <td>100.121230</td>\n",
       "    </tr>\n",
       "    <tr>\n",
       "      <th>400002</th>\n",
       "      <td>TXN-49708</td>\n",
       "      <td>2005-11-28</td>\n",
       "      <td>Turcotte</td>\n",
       "      <td>Scot</td>\n",
       "      <td>1992-05-02</td>\n",
       "      <td>MayMall</td>\n",
       "      <td>Rebond</td>\n",
       "      <td>400.231230</td>\n",
       "    </tr>\n",
       "    <tr>\n",
       "      <th>400003</th>\n",
       "      <td>TXN-49708</td>\n",
       "      <td>2005-11-28</td>\n",
       "      <td>Turcotte</td>\n",
       "      <td>Scot</td>\n",
       "      <td>1992-05-02</td>\n",
       "      <td>FrankMall</td>\n",
       "      <td>Rebond</td>\n",
       "      <td>400.231230</td>\n",
       "    </tr>\n",
       "    <tr>\n",
       "      <th>400004</th>\n",
       "      <td>TXN-49708</td>\n",
       "      <td>2005-11-28</td>\n",
       "      <td>Turcotte</td>\n",
       "      <td>Scot</td>\n",
       "      <td>1992-05-02</td>\n",
       "      <td>MayMall</td>\n",
       "      <td>Rebond</td>\n",
       "      <td>400.231230</td>\n",
       "    </tr>\n",
       "    <tr>\n",
       "      <th>400005</th>\n",
       "      <td>TXN-49708</td>\n",
       "      <td>2005-11-28</td>\n",
       "      <td>Turcotte</td>\n",
       "      <td>Scot</td>\n",
       "      <td>1992-05-02</td>\n",
       "      <td>FrankMall</td>\n",
       "      <td>Rebond</td>\n",
       "      <td>400.231230</td>\n",
       "    </tr>\n",
       "    <tr>\n",
       "      <th>400006</th>\n",
       "      <td>TXN-42446</td>\n",
       "      <td>2030-09-12</td>\n",
       "      <td>Bradtke</td>\n",
       "      <td>Tremayne</td>\n",
       "      <td>1994-04-17</td>\n",
       "      <td>FrankMall</td>\n",
       "      <td>Haircut</td>\n",
       "      <td>66.123457</td>\n",
       "    </tr>\n",
       "    <tr>\n",
       "      <th>400007</th>\n",
       "      <td>TXN-45512</td>\n",
       "      <td>2006-09-20</td>\n",
       "      <td>Moen</td>\n",
       "      <td>Adrienne</td>\n",
       "      <td>2006-06-07</td>\n",
       "      <td>Megamall</td>\n",
       "      <td>Pedicure</td>\n",
       "      <td>77.987989</td>\n",
       "    </tr>\n",
       "    <tr>\n",
       "      <th>400008</th>\n",
       "      <td>TXN-45512</td>\n",
       "      <td>2006-09-20</td>\n",
       "      <td>Moen</td>\n",
       "      <td>Adrienne</td>\n",
       "      <td>2006-06-07</td>\n",
       "      <td>MallOfAsia</td>\n",
       "      <td>Pedicure</td>\n",
       "      <td>77.987989</td>\n",
       "    </tr>\n",
       "    <tr>\n",
       "      <th>400009</th>\n",
       "      <td>TXN-45512</td>\n",
       "      <td>2006-09-20</td>\n",
       "      <td>Moen</td>\n",
       "      <td>Adrienne</td>\n",
       "      <td>2006-06-07</td>\n",
       "      <td>Megamall</td>\n",
       "      <td>Pedicure</td>\n",
       "      <td>77.987989</td>\n",
       "    </tr>\n",
       "  </tbody>\n",
       "</table>\n",
       "</div>"
      ],
      "text/plain": [
       "           txn_id  avail_date  last_name first_name    birthday branch_name  \\\n",
       "400000  TXN-18595  2018-04-20     Durgan     Melisa  1997-10-21  MallOfAsia   \n",
       "400001  TXN-02730  2009-07-10  Schroeder    Lucinda  1991-12-30        None   \n",
       "400002  TXN-49708  2005-11-28   Turcotte       Scot  1992-05-02     MayMall   \n",
       "400003  TXN-49708  2005-11-28   Turcotte       Scot  1992-05-02   FrankMall   \n",
       "400004  TXN-49708  2005-11-28   Turcotte       Scot  1992-05-02     MayMall   \n",
       "400005  TXN-49708  2005-11-28   Turcotte       Scot  1992-05-02   FrankMall   \n",
       "400006  TXN-42446  2030-09-12    Bradtke   Tremayne  1994-04-17   FrankMall   \n",
       "400007  TXN-45512  2006-09-20       Moen   Adrienne  2006-06-07    Megamall   \n",
       "400008  TXN-45512  2006-09-20       Moen   Adrienne  2006-06-07  MallOfAsia   \n",
       "400009  TXN-45512  2006-09-20       Moen   Adrienne  2006-06-07    Megamall   \n",
       "\n",
       "         service       price  \n",
       "400000   Haircut   66.123457  \n",
       "400001   FootSpa  100.121230  \n",
       "400002    Rebond  400.231230  \n",
       "400003    Rebond  400.231230  \n",
       "400004    Rebond  400.231230  \n",
       "400005    Rebond  400.231230  \n",
       "400006   Haircut   66.123457  \n",
       "400007  Pedicure   77.987989  \n",
       "400008  Pedicure   77.987989  \n",
       "400009  Pedicure   77.987989  "
      ]
     },
     "execution_count": 77,
     "metadata": {},
     "output_type": "execute_result"
    }
   ],
   "source": [
    "df_merged.iloc[400000:400010]"
   ]
  },
  {
   "cell_type": "markdown",
   "id": "5a80ab3c-5c20-4206-9151-0f701497824e",
   "metadata": {},
   "source": [
    "### Counting names with special characters"
   ]
  },
  {
   "cell_type": "code",
   "execution_count": 78,
   "id": "3e53e91f-51f9-4732-83fc-bb466eb952e8",
   "metadata": {},
   "outputs": [
    {
     "name": "stderr",
     "output_type": "stream",
     "text": [
      "<>:1: SyntaxWarning: invalid escape sequence '\\,'\n",
      "<>:1: SyntaxWarning: invalid escape sequence '\\,'\n",
      "C:\\Users\\arian\\AppData\\Local\\Temp\\ipykernel_23928\\2421698511.py:1: SyntaxWarning: invalid escape sequence '\\,'\n",
      "  df_merged[\"last_name\"].str.contains('\\,').value_counts()\n"
     ]
    },
    {
     "data": {
      "text/plain": [
       "last_name\n",
       "False    355489\n",
       "True      48698\n",
       "Name: count, dtype: int64"
      ]
     },
     "execution_count": 78,
     "metadata": {},
     "output_type": "execute_result"
    }
   ],
   "source": [
    "df_merged[\"last_name\"].str.contains('\\,').value_counts()"
   ]
  },
  {
   "cell_type": "code",
   "execution_count": 79,
   "id": "daa87a86-4ff4-482d-9f81-d7df994bc90f",
   "metadata": {},
   "outputs": [
    {
     "name": "stderr",
     "output_type": "stream",
     "text": [
      "<>:1: SyntaxWarning: invalid escape sequence '\\.'\n",
      "<>:1: SyntaxWarning: invalid escape sequence '\\.'\n",
      "C:\\Users\\arian\\AppData\\Local\\Temp\\ipykernel_23928\\3815492833.py:1: SyntaxWarning: invalid escape sequence '\\.'\n",
      "  df_merged[\"first_name\"].str.contains('\\.').value_counts()\n"
     ]
    },
    {
     "data": {
      "text/plain": [
       "first_name\n",
       "False    355489\n",
       "True      48698\n",
       "Name: count, dtype: int64"
      ]
     },
     "execution_count": 79,
     "metadata": {},
     "output_type": "execute_result"
    }
   ],
   "source": [
    "df_merged[\"first_name\"].str.contains('\\.').value_counts()"
   ]
  },
  {
   "cell_type": "markdown",
   "id": "50c191e7-c5c6-40d1-b487-2f4665c98748",
   "metadata": {},
   "source": [
    "### Counting duplicates"
   ]
  },
  {
   "cell_type": "code",
   "execution_count": 80,
   "id": "365bb72b-d4f7-4c1a-835e-aac15012096d",
   "metadata": {},
   "outputs": [
    {
     "data": {
      "text/plain": [
       "253144"
      ]
     },
     "execution_count": 80,
     "metadata": {},
     "output_type": "execute_result"
    }
   ],
   "source": [
    "df_merged.duplicated().sum()"
   ]
  },
  {
   "cell_type": "markdown",
   "id": "de081f9e-6a13-403d-9b45-268bb7a20aa0",
   "metadata": {},
   "source": [
    "### Comparing Services with Price"
   ]
  },
  {
   "cell_type": "code",
   "execution_count": 81,
   "id": "c6558aba-5576-498a-80c4-06afe25352e1",
   "metadata": {},
   "outputs": [],
   "source": [
    "services_price = df_merged[['service', 'price']]"
   ]
  },
  {
   "cell_type": "code",
   "execution_count": 82,
   "id": "63090dd5-3462-4bd7-b4f6-7b2c4911b218",
   "metadata": {},
   "outputs": [
    {
     "data": {
      "text/html": [
       "<div>\n",
       "<style scoped>\n",
       "    .dataframe tbody tr th:only-of-type {\n",
       "        vertical-align: middle;\n",
       "    }\n",
       "\n",
       "    .dataframe tbody tr th {\n",
       "        vertical-align: top;\n",
       "    }\n",
       "\n",
       "    .dataframe thead th {\n",
       "        text-align: right;\n",
       "    }\n",
       "</style>\n",
       "<table border=\"1\" class=\"dataframe\">\n",
       "  <thead>\n",
       "    <tr style=\"text-align: right;\">\n",
       "      <th></th>\n",
       "      <th>service</th>\n",
       "      <th>price</th>\n",
       "      <th>count</th>\n",
       "    </tr>\n",
       "  </thead>\n",
       "  <tbody>\n",
       "    <tr>\n",
       "      <th>0</th>\n",
       "      <td>FootSpa</td>\n",
       "      <td>0.000000</td>\n",
       "      <td>6836</td>\n",
       "    </tr>\n",
       "    <tr>\n",
       "      <th>1</th>\n",
       "      <td>FootSpa</td>\n",
       "      <td>100.121230</td>\n",
       "      <td>37945</td>\n",
       "    </tr>\n",
       "    <tr>\n",
       "      <th>2</th>\n",
       "      <td>HairColor</td>\n",
       "      <td>0.000000</td>\n",
       "      <td>6901</td>\n",
       "    </tr>\n",
       "    <tr>\n",
       "      <th>3</th>\n",
       "      <td>HairColor</td>\n",
       "      <td>88.093930</td>\n",
       "      <td>37625</td>\n",
       "    </tr>\n",
       "    <tr>\n",
       "      <th>4</th>\n",
       "      <td>Haircut</td>\n",
       "      <td>0.000000</td>\n",
       "      <td>6443</td>\n",
       "    </tr>\n",
       "    <tr>\n",
       "      <th>5</th>\n",
       "      <td>Haircut</td>\n",
       "      <td>66.123457</td>\n",
       "      <td>36665</td>\n",
       "    </tr>\n",
       "    <tr>\n",
       "      <th>6</th>\n",
       "      <td>Manicure</td>\n",
       "      <td>0.000000</td>\n",
       "      <td>6698</td>\n",
       "    </tr>\n",
       "    <tr>\n",
       "      <th>7</th>\n",
       "      <td>Manicure</td>\n",
       "      <td>55.232400</td>\n",
       "      <td>37641</td>\n",
       "    </tr>\n",
       "    <tr>\n",
       "      <th>8</th>\n",
       "      <td>NailColor</td>\n",
       "      <td>0.000000</td>\n",
       "      <td>7662</td>\n",
       "    </tr>\n",
       "    <tr>\n",
       "      <th>9</th>\n",
       "      <td>NailColor</td>\n",
       "      <td>30.123790</td>\n",
       "      <td>38272</td>\n",
       "    </tr>\n",
       "    <tr>\n",
       "      <th>10</th>\n",
       "      <td>Pedicure</td>\n",
       "      <td>0.000000</td>\n",
       "      <td>6385</td>\n",
       "    </tr>\n",
       "    <tr>\n",
       "      <th>11</th>\n",
       "      <td>Pedicure</td>\n",
       "      <td>77.987989</td>\n",
       "      <td>38163</td>\n",
       "    </tr>\n",
       "    <tr>\n",
       "      <th>12</th>\n",
       "      <td>Rebond</td>\n",
       "      <td>0.000000</td>\n",
       "      <td>6919</td>\n",
       "    </tr>\n",
       "    <tr>\n",
       "      <th>13</th>\n",
       "      <td>Rebond</td>\n",
       "      <td>400.231230</td>\n",
       "      <td>37985</td>\n",
       "    </tr>\n",
       "  </tbody>\n",
       "</table>\n",
       "</div>"
      ],
      "text/plain": [
       "      service       price  count\n",
       "0     FootSpa    0.000000   6836\n",
       "1     FootSpa  100.121230  37945\n",
       "2   HairColor    0.000000   6901\n",
       "3   HairColor   88.093930  37625\n",
       "4     Haircut    0.000000   6443\n",
       "5     Haircut   66.123457  36665\n",
       "6    Manicure    0.000000   6698\n",
       "7    Manicure   55.232400  37641\n",
       "8   NailColor    0.000000   7662\n",
       "9   NailColor   30.123790  38272\n",
       "10   Pedicure    0.000000   6385\n",
       "11   Pedicure   77.987989  38163\n",
       "12     Rebond    0.000000   6919\n",
       "13     Rebond  400.231230  37985"
      ]
     },
     "execution_count": 82,
     "metadata": {},
     "output_type": "execute_result"
    }
   ],
   "source": [
    "df_merged.groupby(['service', 'price']).size().reset_index().rename(columns={0: 'count'})"
   ]
  },
  {
   "cell_type": "code",
   "execution_count": 83,
   "id": "15d3fca6-d1c9-4ee1-a971-7f26b2484850",
   "metadata": {},
   "outputs": [],
   "source": [
    "df_merged['avail_date'] = pd.to_datetime(df_merged['avail_date'])"
   ]
  },
  {
   "cell_type": "code",
   "execution_count": 84,
   "id": "3b7b3d24-dcdb-4910-a4d1-839d32080af4",
   "metadata": {},
   "outputs": [],
   "source": [
    "df_merged['birthday'] = pd.to_datetime(df_merged['birthday'])"
   ]
  },
  {
   "cell_type": "markdown",
   "id": "38a3f92c-1ab9-49fd-a46a-019d6e77408f",
   "metadata": {},
   "source": [
    "### Counting Same avail date and txn id"
   ]
  },
  {
   "cell_type": "code",
   "execution_count": 85,
   "id": "0d932604-e419-496e-ae02-7c2fb3b43bbe",
   "metadata": {},
   "outputs": [
    {
     "data": {
      "text/html": [
       "<div>\n",
       "<style scoped>\n",
       "    .dataframe tbody tr th:only-of-type {\n",
       "        vertical-align: middle;\n",
       "    }\n",
       "\n",
       "    .dataframe tbody tr th {\n",
       "        vertical-align: top;\n",
       "    }\n",
       "\n",
       "    .dataframe thead th {\n",
       "        text-align: right;\n",
       "    }\n",
       "</style>\n",
       "<table border=\"1\" class=\"dataframe\">\n",
       "  <thead>\n",
       "    <tr style=\"text-align: right;\">\n",
       "      <th></th>\n",
       "      <th>txn_id</th>\n",
       "      <th>avail_date</th>\n",
       "      <th>count</th>\n",
       "    </tr>\n",
       "  </thead>\n",
       "  <tbody>\n",
       "    <tr>\n",
       "      <th>0</th>\n",
       "      <td>TXN-00000</td>\n",
       "      <td>2010-10-25</td>\n",
       "      <td>9</td>\n",
       "    </tr>\n",
       "    <tr>\n",
       "      <th>1</th>\n",
       "      <td>TXN-00001</td>\n",
       "      <td>2012-04-21</td>\n",
       "      <td>4</td>\n",
       "    </tr>\n",
       "    <tr>\n",
       "      <th>2</th>\n",
       "      <td>TXN-00003</td>\n",
       "      <td>2024-05-11</td>\n",
       "      <td>1</td>\n",
       "    </tr>\n",
       "    <tr>\n",
       "      <th>3</th>\n",
       "      <td>TXN-00004</td>\n",
       "      <td>2010-03-07</td>\n",
       "      <td>1</td>\n",
       "    </tr>\n",
       "    <tr>\n",
       "      <th>4</th>\n",
       "      <td>TXN-00005</td>\n",
       "      <td>2017-07-28</td>\n",
       "      <td>9</td>\n",
       "    </tr>\n",
       "    <tr>\n",
       "      <th>...</th>\n",
       "      <td>...</td>\n",
       "      <td>...</td>\n",
       "      <td>...</td>\n",
       "    </tr>\n",
       "    <tr>\n",
       "      <th>72347</th>\n",
       "      <td>TXN-65530</td>\n",
       "      <td>2021-07-02</td>\n",
       "      <td>2</td>\n",
       "    </tr>\n",
       "    <tr>\n",
       "      <th>72348</th>\n",
       "      <td>TXN-65532</td>\n",
       "      <td>2015-02-07</td>\n",
       "      <td>2</td>\n",
       "    </tr>\n",
       "    <tr>\n",
       "      <th>72349</th>\n",
       "      <td>TXN-65532</td>\n",
       "      <td>2022-05-21</td>\n",
       "      <td>2</td>\n",
       "    </tr>\n",
       "    <tr>\n",
       "      <th>72350</th>\n",
       "      <td>TXN-65534</td>\n",
       "      <td>2020-11-11</td>\n",
       "      <td>1</td>\n",
       "    </tr>\n",
       "    <tr>\n",
       "      <th>72351</th>\n",
       "      <td>TXN-65535</td>\n",
       "      <td>2007-06-17</td>\n",
       "      <td>1</td>\n",
       "    </tr>\n",
       "  </tbody>\n",
       "</table>\n",
       "<p>72352 rows × 3 columns</p>\n",
       "</div>"
      ],
      "text/plain": [
       "          txn_id avail_date  count\n",
       "0      TXN-00000 2010-10-25      9\n",
       "1      TXN-00001 2012-04-21      4\n",
       "2      TXN-00003 2024-05-11      1\n",
       "3      TXN-00004 2010-03-07      1\n",
       "4      TXN-00005 2017-07-28      9\n",
       "...          ...        ...    ...\n",
       "72347  TXN-65530 2021-07-02      2\n",
       "72348  TXN-65532 2015-02-07      2\n",
       "72349  TXN-65532 2022-05-21      2\n",
       "72350  TXN-65534 2020-11-11      1\n",
       "72351  TXN-65535 2007-06-17      1\n",
       "\n",
       "[72352 rows x 3 columns]"
      ]
     },
     "execution_count": 85,
     "metadata": {},
     "output_type": "execute_result"
    }
   ],
   "source": [
    "df_merged.groupby(['txn_id', 'avail_date']).size().reset_index().rename(columns={0: 'count'})"
   ]
  },
  {
   "cell_type": "markdown",
   "id": "d5061508-d819-4f62-962b-9c308fc13426",
   "metadata": {},
   "source": [
    "### Counting Same TXN ID but different birthdays"
   ]
  },
  {
   "cell_type": "code",
   "execution_count": 86,
   "id": "be14cf78-1287-49e4-9b7b-9fbee76561e1",
   "metadata": {},
   "outputs": [
    {
     "data": {
      "text/plain": [
       "txn_id\n",
       "TXN-00000    9\n",
       "TXN-00001    4\n",
       "TXN-00003    1\n",
       "TXN-00004    1\n",
       "TXN-00005    9\n",
       "            ..\n",
       "TXN-65529    4\n",
       "TXN-65530    4\n",
       "TXN-65532    4\n",
       "TXN-65534    1\n",
       "TXN-65535    1\n",
       "Name: birthday, Length: 62354, dtype: int64"
      ]
     },
     "execution_count": 86,
     "metadata": {},
     "output_type": "execute_result"
    }
   ],
   "source": [
    "df_merged.groupby('txn_id')['birthday'].count()"
   ]
  },
  {
   "cell_type": "markdown",
   "id": "d6d48711-0591-4001-b9e6-d3abf76ee532",
   "metadata": {},
   "source": [
    "### Comparing Avail Date and Birthdays"
   ]
  },
  {
   "cell_type": "code",
   "execution_count": 87,
   "id": "a13aa2d6-c465-4841-8742-10167b14ac64",
   "metadata": {},
   "outputs": [
    {
     "data": {
      "text/plain": [
       "False    391815\n",
       "True      12372\n",
       "Name: count, dtype: int64"
      ]
     },
     "execution_count": 87,
     "metadata": {},
     "output_type": "execute_result"
    }
   ],
   "source": [
    "invalid = df_merged['birthday'] >= df_merged['avail_date']\n",
    "invalid.value_counts()"
   ]
  },
  {
   "cell_type": "markdown",
   "id": "61a2d00e-cf64-44ec-8fe3-948310579f10",
   "metadata": {},
   "source": [
    "### Setting up current ages depending on birthday and avail date"
   ]
  },
  {
   "cell_type": "code",
   "execution_count": 88,
   "id": "74c671ac-478a-46a4-9cbd-53fcf4d9b58f",
   "metadata": {},
   "outputs": [],
   "source": [
    "df_merged['age_during_avail'] = ((df_merged['avail_date'] - df_merged['birthday']).dt.days / 365.25).astype(np.int64)"
   ]
  },
  {
   "cell_type": "markdown",
   "id": "e237275c-1a1d-45b9-bed0-e7e38e8aadf8",
   "metadata": {},
   "source": [
    "### Checking age during avail date"
   ]
  },
  {
   "cell_type": "code",
   "execution_count": 89,
   "id": "1f907008-7293-4880-89ab-b5886f61f2c2",
   "metadata": {},
   "outputs": [],
   "source": [
    "conditions = (\n",
    "    (df_merged['service'] == 'Manicure') & (df_merged['age_during_avail'] <= 13) |\n",
    "    (df_merged['service'] == 'Hair Color') & (df_merged['age_during_avail'] <= 16) |\n",
    "    (df_merged['service'] == 'FootSpa') & (df_merged['age_during_avail'] <= 8) |\n",
    "    (df_merged['service'] == 'Rebond') & (df_merged['age_during_avail'] <= 16) |\n",
    "    (df_merged['service'] == 'NailColor') & (df_merged['age_during_avail'] <= 13) |\n",
    "    (df_merged['service'] == 'Pedicure') & (df_merged['age_during_avail'] <= 13)\n",
    ")\n",
    "age_restricted = df_merged[conditions]"
   ]
  },
  {
   "cell_type": "code",
   "execution_count": 90,
   "id": "af519a0c-2dd9-4bc5-82fd-734999d935d3",
   "metadata": {},
   "outputs": [
    {
     "name": "stdout",
     "output_type": "stream",
     "text": [
      "(102568, 9)\n"
     ]
    }
   ],
   "source": [
    "print(age_restricted.shape)"
   ]
  },
  {
   "cell_type": "markdown",
   "id": "fe75c980-dfee-43bf-b5b3-c9481373e4e5",
   "metadata": {},
   "source": [
    "### Checking Unique Transaction Ids"
   ]
  },
  {
   "cell_type": "code",
   "execution_count": 91,
   "id": "be61b932-3005-46c5-9a98-0f5fca6aa630",
   "metadata": {},
   "outputs": [
    {
     "name": "stdout",
     "output_type": "stream",
     "text": [
      "txn_id              62354\n",
      "avail_date           9489\n",
      "last_name            2345\n",
      "first_name          14740\n",
      "birthday             7668\n",
      "branch_name             9\n",
      "service                 7\n",
      "price                   8\n",
      "age_during_avail       46\n",
      "dtype: int64\n"
     ]
    }
   ],
   "source": [
    "print(df_merged.nunique())"
   ]
  },
  {
   "cell_type": "markdown",
   "id": "b86f6883-0ddf-44e7-8a7d-c8642feadcff",
   "metadata": {},
   "source": [
    "### Checking Unique branch name, services and prices"
   ]
  },
  {
   "cell_type": "code",
   "execution_count": 92,
   "id": "c8966a28-4066-4696-b118-61c4d5298f36",
   "metadata": {},
   "outputs": [
    {
     "data": {
      "text/plain": [
       "array(['MallOfAsia', 'Starmall', 'SmallMall', 'MayMall', 'FrankMall',\n",
       "       'Megamall', 'RobinsonsMall', '', None, 'N/A'], dtype=object)"
      ]
     },
     "execution_count": 92,
     "metadata": {},
     "output_type": "execute_result"
    }
   ],
   "source": [
    "df_merged['branch_name'].unique()"
   ]
  },
  {
   "cell_type": "code",
   "execution_count": 93,
   "id": "ed7c7a6d-92cd-4dc9-ab53-bfe296a0c177",
   "metadata": {},
   "outputs": [
    {
     "data": {
      "text/plain": [
       "array(['Manicure', 'HairColor', 'FootSpa', 'Rebond', 'Haircut',\n",
       "       'NailColor', 'Pedicure'], dtype=object)"
      ]
     },
     "execution_count": 93,
     "metadata": {},
     "output_type": "execute_result"
    }
   ],
   "source": [
    "df_merged['service'].unique()"
   ]
  },
  {
   "cell_type": "code",
   "execution_count": 94,
   "id": "ce0d3c87-4d1f-4886-a372-e4e2cb18744d",
   "metadata": {},
   "outputs": [
    {
     "data": {
      "text/plain": [
       "array([         nan,  55.2324    ,  88.09393   , 100.12123   ,\n",
       "       400.23123   ,  66.12345678,  30.1237897 ,  77.987989  ,\n",
       "         0.        ])"
      ]
     },
     "execution_count": 94,
     "metadata": {},
     "output_type": "execute_result"
    }
   ],
   "source": [
    "df_merged['price'].unique()"
   ]
  },
  {
   "cell_type": "markdown",
   "id": "2d4e5562-1916-4f5f-8b06-f36f6ef9d146",
   "metadata": {},
   "source": [
    "### Count of blank branch name"
   ]
  },
  {
   "cell_type": "code",
   "execution_count": 95,
   "id": "8835b45a-3db8-42a9-a4c0-96c516be02b9",
   "metadata": {},
   "outputs": [
    {
     "data": {
      "text/plain": [
       "2766"
      ]
     },
     "execution_count": 95,
     "metadata": {},
     "output_type": "execute_result"
    }
   ],
   "source": [
    "df_merged['branch_name'].value_counts()['']"
   ]
  },
  {
   "cell_type": "markdown",
   "id": "20f45784-dc12-4220-99a9-010cb6d8bafe",
   "metadata": {},
   "source": [
    "### Count of N/A Branch Name"
   ]
  },
  {
   "cell_type": "code",
   "execution_count": 96,
   "id": "0a262e7b-dc80-4041-84ab-9aa142d6e734",
   "metadata": {},
   "outputs": [
    {
     "data": {
      "text/plain": [
       "2727"
      ]
     },
     "execution_count": 96,
     "metadata": {},
     "output_type": "execute_result"
    }
   ],
   "source": [
    "df_merged['branch_name'].value_counts()['N/A']"
   ]
  },
  {
   "cell_type": "markdown",
   "id": "2b85609f-d67d-48a9-9d55-7abc3a73b9fd",
   "metadata": {},
   "source": [
    "### Checking Avail Date"
   ]
  },
  {
   "cell_type": "code",
   "execution_count": 97,
   "id": "021f2df7-dd3c-471f-88c9-5ae0d0775eeb",
   "metadata": {},
   "outputs": [
    {
     "name": "stdout",
     "output_type": "stream",
     "text": [
      "2005-01-01 00:00:00\n",
      "2030-12-30 00:00:00\n"
     ]
    }
   ],
   "source": [
    "print(df_merged['avail_date'].min())\n",
    "print(df_merged['avail_date'].max())"
   ]
  },
  {
   "cell_type": "markdown",
   "id": "c8056e43-dc55-4157-a80e-02ef9a13657a",
   "metadata": {},
   "source": [
    "### Checking Birthdays"
   ]
  },
  {
   "cell_type": "code",
   "execution_count": 98,
   "id": "55bc4d9e-4e74-4cda-8602-6ce4daa9a488",
   "metadata": {},
   "outputs": [
    {
     "name": "stdout",
     "output_type": "stream",
     "text": [
      "1990-01-01 00:00:00\n",
      "2010-12-30 00:00:00\n"
     ]
    }
   ],
   "source": [
    "print(df_merged['birthday'].min())\n",
    "print(df_merged['birthday'].max())"
   ]
  },
  {
   "cell_type": "markdown",
   "id": "f7ffeae4-e93f-44e3-b729-dade12b183ed",
   "metadata": {},
   "source": [
    "### Count avail date after current"
   ]
  },
  {
   "cell_type": "code",
   "execution_count": 99,
   "id": "1105218b-6eb4-4580-bd3a-c05fd7a5b990",
   "metadata": {},
   "outputs": [
    {
     "name": "stdout",
     "output_type": "stream",
     "text": [
      "(109040, 9)\n"
     ]
    }
   ],
   "source": [
    "invalid_date = df_merged[df_merged['avail_date'] >= current_date]\n",
    "print(invalid_date.shape)"
   ]
  },
  {
   "cell_type": "markdown",
   "id": "dea2af3a-41a5-498c-a621-a41fed5e3c51",
   "metadata": {},
   "source": [
    "# Data Cleaning"
   ]
  },
  {
   "cell_type": "markdown",
   "id": "ced5160e-559b-4504-a76a-3c4ee883c0e9",
   "metadata": {},
   "source": [
    "### Removing Duplicates"
   ]
  },
  {
   "cell_type": "code",
   "execution_count": 35,
   "id": "4e2d476a-236a-4628-95c2-833e08feff3e",
   "metadata": {},
   "outputs": [
    {
     "name": "stdout",
     "output_type": "stream",
     "text": [
      "(404187, 9)\n",
      "(151043, 9)\n"
     ]
    }
   ],
   "source": [
    "print(df_merged.shape)\n",
    "df_merged = df_merged.drop_duplicates()\n",
    "print(df_merged.shape)"
   ]
  },
  {
   "cell_type": "code",
   "execution_count": 36,
   "id": "ee126ff1-252f-4426-9353-83f98f1ff666",
   "metadata": {},
   "outputs": [],
   "source": [
    "df_merged.to_parquet(\"merged_txn_duplicates_removed.parquet\")"
   ]
  },
  {
   "cell_type": "markdown",
   "id": "06df29e7-1e2f-4f4e-89f3-9cba07bec7ec",
   "metadata": {},
   "source": [
    "### Converting empty cells to NaN"
   ]
  },
  {
   "cell_type": "code",
   "execution_count": 37,
   "id": "a04f7466-4e1e-4904-80e3-879ab14bca36",
   "metadata": {},
   "outputs": [],
   "source": [
    "df_merged.replace('', np.nan, inplace=True)"
   ]
  },
  {
   "cell_type": "markdown",
   "id": "aa5eac4d-bc6a-4258-9fe8-3ac8ead37cc0",
   "metadata": {},
   "source": [
    "### Removing NaN Values\n"
   ]
  },
  {
   "cell_type": "code",
   "execution_count": 38,
   "id": "f9908d3a-9332-40c4-8254-df4bd67eded0",
   "metadata": {},
   "outputs": [
    {
     "name": "stdout",
     "output_type": "stream",
     "text": [
      "(151043, 9)\n",
      "(104308, 9)\n"
     ]
    }
   ],
   "source": [
    "print(df_merged.shape)\n",
    "df_merged = df_merged.dropna()\n",
    "print(df_merged.shape)"
   ]
  },
  {
   "cell_type": "markdown",
   "id": "fedd182d-a266-4989-aa9f-d34a8805f1ce",
   "metadata": {},
   "source": [
    "### Remove N/A from branch name"
   ]
  },
  {
   "cell_type": "code",
   "execution_count": 39,
   "id": "f3858ca2-aa35-45ba-acf6-e792fdd798c6",
   "metadata": {},
   "outputs": [],
   "source": [
    "df_merged = df_merged[df_merged['branch_name'].str.contains('N/A')==False]"
   ]
  },
  {
   "cell_type": "markdown",
   "id": "21736941-d14a-43a3-8d0d-0050224da9f7",
   "metadata": {},
   "source": [
    "### Remove rows with 0 price"
   ]
  },
  {
   "cell_type": "code",
   "execution_count": 40,
   "id": "3f495880-fc6a-42ce-9f54-e2abbeec7f8e",
   "metadata": {},
   "outputs": [],
   "source": [
    "df_merged = df_merged[df_merged['price'] != 0]"
   ]
  },
  {
   "cell_type": "code",
   "execution_count": 41,
   "id": "1aa84fac-6346-40de-8a0a-a77eee00a44f",
   "metadata": {},
   "outputs": [],
   "source": [
    "df_merged.to_parquet(\"merged_null_removed.parquet\")"
   ]
  },
  {
   "cell_type": "markdown",
   "id": "f1a6984a-11f5-46cd-b47a-e7009668e5c3",
   "metadata": {},
   "source": [
    "### Remove unnecessary symbols from last name and first name"
   ]
  },
  {
   "cell_type": "code",
   "execution_count": 42,
   "id": "b08c7441-c24a-44a2-912b-cad7bcdcb308",
   "metadata": {},
   "outputs": [],
   "source": [
    "df_merged['last_name'] = df_merged['last_name'].str.replace(',', '')"
   ]
  },
  {
   "cell_type": "code",
   "execution_count": 43,
   "id": "5980eaf5-4202-4eee-af87-0506ac519dd5",
   "metadata": {},
   "outputs": [],
   "source": [
    "df_merged['first_name'] = df_merged['first_name'].str.replace('.', '')"
   ]
  },
  {
   "cell_type": "markdown",
   "id": "014ce838-c5ee-43c6-ae9e-575dd34468df",
   "metadata": {},
   "source": [
    "### Making Both First name and last name upper case"
   ]
  },
  {
   "cell_type": "code",
   "execution_count": 44,
   "id": "4b9283f7-e701-435d-aec4-687c6b677f0f",
   "metadata": {},
   "outputs": [],
   "source": [
    "df_merged['last_name'] = df_merged['last_name'].str.upper()"
   ]
  },
  {
   "cell_type": "code",
   "execution_count": 45,
   "id": "351e37b0-0cf2-4822-b9cd-898390efce3f",
   "metadata": {},
   "outputs": [],
   "source": [
    "df_merged['first_name'] = df_merged['first_name'].str.upper()"
   ]
  },
  {
   "cell_type": "code",
   "execution_count": 46,
   "id": "0254fc89-4e81-4529-967a-e37fbeb3b281",
   "metadata": {},
   "outputs": [],
   "source": [
    "df_merged.to_parquet(\"merged_name_clean.parquet\")"
   ]
  },
  {
   "cell_type": "markdown",
   "id": "4edea085-41ec-4dc7-b312-6a561113e009",
   "metadata": {},
   "source": [
    "### Converting object to actual DateTime"
   ]
  },
  {
   "cell_type": "code",
   "execution_count": 47,
   "id": "287fea8f-fbe2-43cc-a5b9-ce1785d4eae2",
   "metadata": {},
   "outputs": [],
   "source": [
    "df_merged.to_parquet(\"merged_standardized_info.parquet\")"
   ]
  },
  {
   "cell_type": "code",
   "execution_count": 48,
   "id": "af514332-6f1d-4b37-b80a-726d9a0a64c7",
   "metadata": {},
   "outputs": [
    {
     "name": "stdout",
     "output_type": "stream",
     "text": [
      "(86389, 9)\n"
     ]
    }
   ],
   "source": [
    "print(df_merged.shape)"
   ]
  },
  {
   "cell_type": "markdown",
   "id": "e428e048-e926-4058-b7f4-0a6d90f09735",
   "metadata": {},
   "source": [
    "# Data Validating"
   ]
  },
  {
   "cell_type": "markdown",
   "id": "2168998c-58ca-4591-80a4-ee9ac681985b",
   "metadata": {},
   "source": [
    "### Removing Rows with Avail Date Beyond current date\n"
   ]
  },
  {
   "cell_type": "code",
   "execution_count": 49,
   "id": "86ab3ddc-755c-42b7-a095-e5383325204e",
   "metadata": {},
   "outputs": [],
   "source": [
    "df_merged = df_merged[df_merged['avail_date'] <= current_date]"
   ]
  },
  {
   "cell_type": "markdown",
   "id": "fd498b03-8b5f-4fe9-8391-e97ea3f8fe98",
   "metadata": {},
   "source": [
    "### Removing rows with same transaction id and avail date but different branch name\n"
   ]
  },
  {
   "cell_type": "code",
   "execution_count": 50,
   "id": "64418b78-56c1-4890-9748-514729fc4d2d",
   "metadata": {},
   "outputs": [],
   "source": [
    "df_merged = df_merged.drop_duplicates(subset=['txn_id','avail_date','service'], keep ='first')"
   ]
  },
  {
   "cell_type": "markdown",
   "id": "cf7f7549-ca98-45e0-baee-1a5af20b0ee1",
   "metadata": {},
   "source": [
    "### Removing same transaction id and names but different birthday keeping only the earlier avail date"
   ]
  },
  {
   "cell_type": "code",
   "execution_count": 51,
   "id": "564533ce-11c5-4715-8603-4eb930f8b309",
   "metadata": {},
   "outputs": [],
   "source": [
    "df_merged['birthday'] = df_merged.sort_values(['txn_id','avail_date'],ascending=False).groupby('txn_id')['birthday'].transform('first')"
   ]
  },
  {
   "cell_type": "code",
   "execution_count": 52,
   "id": "5a04cd2a-8c8f-439b-a5fa-2c91b7b843eb",
   "metadata": {},
   "outputs": [],
   "source": [
    "df_merged.to_parquet(\"merged_date.parquet\")"
   ]
  },
  {
   "cell_type": "code",
   "execution_count": 53,
   "id": "ea21fafc-485e-4c5a-8c40-675ee09bedbe",
   "metadata": {},
   "outputs": [
    {
     "name": "stdout",
     "output_type": "stream",
     "text": [
      "(34826, 9)\n"
     ]
    }
   ],
   "source": [
    "print(df_merged.shape)"
   ]
  },
  {
   "cell_type": "markdown",
   "id": "27ba70fb-fbb4-4602-b53a-5574b4afebbf",
   "metadata": {},
   "source": [
    "### Removing birthdays before avail date"
   ]
  },
  {
   "cell_type": "code",
   "execution_count": 54,
   "id": "601c85dc-899e-411e-bbcd-3633e2b90211",
   "metadata": {},
   "outputs": [],
   "source": [
    "df_merged = df_merged[df_merged['birthday'] <= df_merged['avail_date']]"
   ]
  },
  {
   "cell_type": "markdown",
   "id": "f5d4bc7e-2a1d-4ecc-b95b-7ff3ba128036",
   "metadata": {},
   "source": [
    "### Removing ages too young to avail for services"
   ]
  },
  {
   "cell_type": "code",
   "execution_count": 55,
   "id": "d5e64259-13f8-4e23-9421-903febeb0a56",
   "metadata": {},
   "outputs": [],
   "source": [
    "conditions = (\n",
    "    (df_merged['service'] == 'Manicure') & (df_merged['age_during_avail'] >= 13) |\n",
    "    (df_merged['service'] == 'Hair Color') & (df_merged['age_during_avail'] >= 16) |\n",
    "    (df_merged['service'] == 'FootSpa') & (df_merged['age_during_avail'] >= 8) |\n",
    "    (df_merged['service'] == 'Rebond') & (df_merged['age_during_avail'] >= 16) |\n",
    "    (df_merged['service'] == 'Haircut') |\n",
    "    (df_merged['service'] == 'NailColor') & (df_merged['age_during_avail'] >= 13) |\n",
    "    (df_merged['service'] == 'Pedicure') & (df_merged['age_during_avail'] >= 13)\n",
    ")\n",
    "df_merged = df_merged[conditions]"
   ]
  },
  {
   "cell_type": "code",
   "execution_count": 56,
   "id": "e2f4d90e-af87-4029-962c-eefed7e4da69",
   "metadata": {},
   "outputs": [],
   "source": [
    "df_merged.to_parquet(\"merged_age_restriction.parquet\")"
   ]
  },
  {
   "cell_type": "markdown",
   "id": "bb38de3f-6987-4cc5-bc22-61ba0ea2e54c",
   "metadata": {},
   "source": [
    "## Data Rechecking"
   ]
  },
  {
   "cell_type": "code",
   "execution_count": 57,
   "id": "3986e661-8e59-4994-855a-29c19bd413f0",
   "metadata": {},
   "outputs": [
    {
     "name": "stdout",
     "output_type": "stream",
     "text": [
      "(18624, 9)\n"
     ]
    }
   ],
   "source": [
    "print(df_merged.shape)"
   ]
  },
  {
   "cell_type": "code",
   "execution_count": 58,
   "id": "6532eeae-1195-4202-a5cf-7c0e2c6996e5",
   "metadata": {},
   "outputs": [
    {
     "name": "stdout",
     "output_type": "stream",
     "text": [
      "[10 23 14 17 25 29 11 18 20 26 12 24 21 19  3 13 28  9 31  6  7 15 16 27\n",
      " 22 30  4  5  8  2 -1 32  1 33  0 -2 -3 -4]\n"
     ]
    }
   ],
   "source": [
    "print(df_merged['age_during_avail'].unique())"
   ]
  },
  {
   "cell_type": "code",
   "execution_count": 59,
   "id": "777cd630-7d6e-4e9f-b495-e4c02219620a",
   "metadata": {
    "scrolled": true
   },
   "outputs": [
    {
     "data": {
      "text/html": [
       "<div>\n",
       "<style scoped>\n",
       "    .dataframe tbody tr th:only-of-type {\n",
       "        vertical-align: middle;\n",
       "    }\n",
       "\n",
       "    .dataframe tbody tr th {\n",
       "        vertical-align: top;\n",
       "    }\n",
       "\n",
       "    .dataframe thead th {\n",
       "        text-align: right;\n",
       "    }\n",
       "</style>\n",
       "<table border=\"1\" class=\"dataframe\">\n",
       "  <thead>\n",
       "    <tr style=\"text-align: right;\">\n",
       "      <th></th>\n",
       "      <th>txn_id</th>\n",
       "      <th>avail_date</th>\n",
       "      <th>last_name</th>\n",
       "      <th>first_name</th>\n",
       "      <th>birthday</th>\n",
       "      <th>branch_name</th>\n",
       "      <th>service</th>\n",
       "      <th>price</th>\n",
       "      <th>age_during_avail</th>\n",
       "    </tr>\n",
       "  </thead>\n",
       "  <tbody>\n",
       "    <tr>\n",
       "      <th>3007</th>\n",
       "      <td>TXN-64483</td>\n",
       "      <td>2020-12-28</td>\n",
       "      <td>GERHOLD</td>\n",
       "      <td>KIAN</td>\n",
       "      <td>2001-12-04</td>\n",
       "      <td>MallOfAsia</td>\n",
       "      <td>FootSpa</td>\n",
       "      <td>100.121230</td>\n",
       "      <td>19</td>\n",
       "    </tr>\n",
       "    <tr>\n",
       "      <th>3027</th>\n",
       "      <td>TXN-33059</td>\n",
       "      <td>2014-04-28</td>\n",
       "      <td>ROHAN</td>\n",
       "      <td>ARON</td>\n",
       "      <td>1998-06-19</td>\n",
       "      <td>RobinsonsMall</td>\n",
       "      <td>Pedicure</td>\n",
       "      <td>77.987989</td>\n",
       "      <td>15</td>\n",
       "    </tr>\n",
       "    <tr>\n",
       "      <th>3069</th>\n",
       "      <td>TXN-48766</td>\n",
       "      <td>2019-10-06</td>\n",
       "      <td>HALVORSON</td>\n",
       "      <td>RUSS</td>\n",
       "      <td>1999-03-04</td>\n",
       "      <td>Megamall</td>\n",
       "      <td>Rebond</td>\n",
       "      <td>400.231230</td>\n",
       "      <td>20</td>\n",
       "    </tr>\n",
       "    <tr>\n",
       "      <th>3088</th>\n",
       "      <td>TXN-09534</td>\n",
       "      <td>2014-04-22</td>\n",
       "      <td>LINDGREN</td>\n",
       "      <td>ROBERTO</td>\n",
       "      <td>1994-01-11</td>\n",
       "      <td>FrankMall</td>\n",
       "      <td>FootSpa</td>\n",
       "      <td>100.121230</td>\n",
       "      <td>20</td>\n",
       "    </tr>\n",
       "    <tr>\n",
       "      <th>3266</th>\n",
       "      <td>TXN-20416</td>\n",
       "      <td>2017-11-05</td>\n",
       "      <td>MCKENZIE</td>\n",
       "      <td>DELPHA</td>\n",
       "      <td>1998-12-07</td>\n",
       "      <td>Starmall</td>\n",
       "      <td>NailColor</td>\n",
       "      <td>30.123790</td>\n",
       "      <td>18</td>\n",
       "    </tr>\n",
       "    <tr>\n",
       "      <th>3276</th>\n",
       "      <td>TXN-50378</td>\n",
       "      <td>2022-07-11</td>\n",
       "      <td>BAYER</td>\n",
       "      <td>CAROLE</td>\n",
       "      <td>2005-12-14</td>\n",
       "      <td>Megamall</td>\n",
       "      <td>Pedicure</td>\n",
       "      <td>77.987989</td>\n",
       "      <td>16</td>\n",
       "    </tr>\n",
       "    <tr>\n",
       "      <th>3308</th>\n",
       "      <td>TXN-50378</td>\n",
       "      <td>2015-01-03</td>\n",
       "      <td>BAYER</td>\n",
       "      <td>CAROLE</td>\n",
       "      <td>2005-12-14</td>\n",
       "      <td>Megamall</td>\n",
       "      <td>Pedicure</td>\n",
       "      <td>77.987989</td>\n",
       "      <td>15</td>\n",
       "    </tr>\n",
       "    <tr>\n",
       "      <th>3339</th>\n",
       "      <td>TXN-26009</td>\n",
       "      <td>2022-05-25</td>\n",
       "      <td>ONDRICKA</td>\n",
       "      <td>DALTON</td>\n",
       "      <td>2002-12-16</td>\n",
       "      <td>RobinsonsMall</td>\n",
       "      <td>NailColor</td>\n",
       "      <td>30.123790</td>\n",
       "      <td>19</td>\n",
       "    </tr>\n",
       "    <tr>\n",
       "      <th>3358</th>\n",
       "      <td>TXN-00733</td>\n",
       "      <td>2007-10-16</td>\n",
       "      <td>CARROLL</td>\n",
       "      <td>DUANE</td>\n",
       "      <td>1990-08-25</td>\n",
       "      <td>MayMall</td>\n",
       "      <td>Rebond</td>\n",
       "      <td>400.231230</td>\n",
       "      <td>17</td>\n",
       "    </tr>\n",
       "    <tr>\n",
       "      <th>3415</th>\n",
       "      <td>TXN-13676</td>\n",
       "      <td>2018-12-19</td>\n",
       "      <td>BAUMBACH</td>\n",
       "      <td>TORRANCE</td>\n",
       "      <td>2010-10-16</td>\n",
       "      <td>SmallMall</td>\n",
       "      <td>Pedicure</td>\n",
       "      <td>77.987989</td>\n",
       "      <td>24</td>\n",
       "    </tr>\n",
       "    <tr>\n",
       "      <th>3420</th>\n",
       "      <td>TXN-23094</td>\n",
       "      <td>2015-11-08</td>\n",
       "      <td>RAYNOR</td>\n",
       "      <td>CARLIE</td>\n",
       "      <td>1993-06-10</td>\n",
       "      <td>Megamall</td>\n",
       "      <td>Manicure</td>\n",
       "      <td>55.232400</td>\n",
       "      <td>17</td>\n",
       "    </tr>\n",
       "    <tr>\n",
       "      <th>3452</th>\n",
       "      <td>TXN-23094</td>\n",
       "      <td>2023-01-06</td>\n",
       "      <td>RAYNOR</td>\n",
       "      <td>CARLIE</td>\n",
       "      <td>1993-06-10</td>\n",
       "      <td>Megamall</td>\n",
       "      <td>Manicure</td>\n",
       "      <td>55.232400</td>\n",
       "      <td>29</td>\n",
       "    </tr>\n",
       "    <tr>\n",
       "      <th>3487</th>\n",
       "      <td>TXN-48316</td>\n",
       "      <td>2011-02-27</td>\n",
       "      <td>VEUM</td>\n",
       "      <td>DEREK</td>\n",
       "      <td>1998-06-09</td>\n",
       "      <td>FrankMall</td>\n",
       "      <td>Pedicure</td>\n",
       "      <td>77.987989</td>\n",
       "      <td>14</td>\n",
       "    </tr>\n",
       "    <tr>\n",
       "      <th>3505</th>\n",
       "      <td>TXN-48316</td>\n",
       "      <td>2012-05-12</td>\n",
       "      <td>VEUM</td>\n",
       "      <td>DEREK</td>\n",
       "      <td>1998-06-09</td>\n",
       "      <td>FrankMall</td>\n",
       "      <td>Pedicure</td>\n",
       "      <td>77.987989</td>\n",
       "      <td>13</td>\n",
       "    </tr>\n",
       "    <tr>\n",
       "      <th>3560</th>\n",
       "      <td>TXN-54642</td>\n",
       "      <td>2014-08-09</td>\n",
       "      <td>SCHMITT</td>\n",
       "      <td>CURTIS</td>\n",
       "      <td>1995-02-02</td>\n",
       "      <td>SmallMall</td>\n",
       "      <td>FootSpa</td>\n",
       "      <td>100.121230</td>\n",
       "      <td>19</td>\n",
       "    </tr>\n",
       "    <tr>\n",
       "      <th>3598</th>\n",
       "      <td>TXN-64356</td>\n",
       "      <td>2019-08-26</td>\n",
       "      <td>MITCHELL</td>\n",
       "      <td>ROCIO</td>\n",
       "      <td>2008-01-06</td>\n",
       "      <td>RobinsonsMall</td>\n",
       "      <td>FootSpa</td>\n",
       "      <td>100.121230</td>\n",
       "      <td>11</td>\n",
       "    </tr>\n",
       "    <tr>\n",
       "      <th>3625</th>\n",
       "      <td>TXN-37647</td>\n",
       "      <td>2017-05-14</td>\n",
       "      <td>MITCHELL</td>\n",
       "      <td>MACY</td>\n",
       "      <td>1999-10-28</td>\n",
       "      <td>MayMall</td>\n",
       "      <td>FootSpa</td>\n",
       "      <td>100.121230</td>\n",
       "      <td>17</td>\n",
       "    </tr>\n",
       "    <tr>\n",
       "      <th>3710</th>\n",
       "      <td>TXN-62766</td>\n",
       "      <td>2017-03-15</td>\n",
       "      <td>SCHULIST</td>\n",
       "      <td>DELPHINE</td>\n",
       "      <td>2007-05-07</td>\n",
       "      <td>MayMall</td>\n",
       "      <td>FootSpa</td>\n",
       "      <td>100.121230</td>\n",
       "      <td>9</td>\n",
       "    </tr>\n",
       "    <tr>\n",
       "      <th>3718</th>\n",
       "      <td>TXN-62766</td>\n",
       "      <td>2016-06-30</td>\n",
       "      <td>SCHULIST</td>\n",
       "      <td>DELPHINE</td>\n",
       "      <td>2007-05-07</td>\n",
       "      <td>MayMall</td>\n",
       "      <td>FootSpa</td>\n",
       "      <td>100.121230</td>\n",
       "      <td>17</td>\n",
       "    </tr>\n",
       "    <tr>\n",
       "      <th>3742</th>\n",
       "      <td>TXN-23581</td>\n",
       "      <td>2014-12-04</td>\n",
       "      <td>RATH</td>\n",
       "      <td>JASON</td>\n",
       "      <td>1998-12-28</td>\n",
       "      <td>SmallMall</td>\n",
       "      <td>FootSpa</td>\n",
       "      <td>100.121230</td>\n",
       "      <td>15</td>\n",
       "    </tr>\n",
       "    <tr>\n",
       "      <th>3750</th>\n",
       "      <td>TXN-23581</td>\n",
       "      <td>2010-09-25</td>\n",
       "      <td>RATH</td>\n",
       "      <td>JASON</td>\n",
       "      <td>1998-12-28</td>\n",
       "      <td>SmallMall</td>\n",
       "      <td>FootSpa</td>\n",
       "      <td>100.121230</td>\n",
       "      <td>9</td>\n",
       "    </tr>\n",
       "    <tr>\n",
       "      <th>3759</th>\n",
       "      <td>TXN-38091</td>\n",
       "      <td>2019-06-29</td>\n",
       "      <td>GORCZANY</td>\n",
       "      <td>DEVON</td>\n",
       "      <td>1990-02-12</td>\n",
       "      <td>MallOfAsia</td>\n",
       "      <td>FootSpa</td>\n",
       "      <td>100.121230</td>\n",
       "      <td>29</td>\n",
       "    </tr>\n",
       "    <tr>\n",
       "      <th>3770</th>\n",
       "      <td>TXN-05769</td>\n",
       "      <td>2018-05-28</td>\n",
       "      <td>EICHMANN</td>\n",
       "      <td>OWEN</td>\n",
       "      <td>1997-10-08</td>\n",
       "      <td>MayMall</td>\n",
       "      <td>Rebond</td>\n",
       "      <td>400.231230</td>\n",
       "      <td>20</td>\n",
       "    </tr>\n",
       "    <tr>\n",
       "      <th>3785</th>\n",
       "      <td>TXN-11899</td>\n",
       "      <td>2016-12-19</td>\n",
       "      <td>BERNHARD</td>\n",
       "      <td>BREANNA</td>\n",
       "      <td>1990-03-25</td>\n",
       "      <td>RobinsonsMall</td>\n",
       "      <td>Manicure</td>\n",
       "      <td>55.232400</td>\n",
       "      <td>26</td>\n",
       "    </tr>\n",
       "    <tr>\n",
       "      <th>3863</th>\n",
       "      <td>TXN-57791</td>\n",
       "      <td>2018-01-25</td>\n",
       "      <td>AUFDERHAR</td>\n",
       "      <td>NIGEL</td>\n",
       "      <td>1992-05-26</td>\n",
       "      <td>MayMall</td>\n",
       "      <td>Pedicure</td>\n",
       "      <td>77.987989</td>\n",
       "      <td>25</td>\n",
       "    </tr>\n",
       "    <tr>\n",
       "      <th>3911</th>\n",
       "      <td>TXN-58184</td>\n",
       "      <td>2012-05-03</td>\n",
       "      <td>HETTINGER</td>\n",
       "      <td>AMERICA</td>\n",
       "      <td>1993-03-23</td>\n",
       "      <td>MallOfAsia</td>\n",
       "      <td>Rebond</td>\n",
       "      <td>400.231230</td>\n",
       "      <td>19</td>\n",
       "    </tr>\n",
       "    <tr>\n",
       "      <th>3917</th>\n",
       "      <td>TXN-24215</td>\n",
       "      <td>2022-09-03</td>\n",
       "      <td>JEWESS</td>\n",
       "      <td>JUNIUS</td>\n",
       "      <td>1994-04-12</td>\n",
       "      <td>SmallMall</td>\n",
       "      <td>FootSpa</td>\n",
       "      <td>100.121230</td>\n",
       "      <td>28</td>\n",
       "    </tr>\n",
       "    <tr>\n",
       "      <th>3922</th>\n",
       "      <td>TXN-59723</td>\n",
       "      <td>2013-01-23</td>\n",
       "      <td>HAAG</td>\n",
       "      <td>VELVA</td>\n",
       "      <td>1995-07-20</td>\n",
       "      <td>MayMall</td>\n",
       "      <td>FootSpa</td>\n",
       "      <td>100.121230</td>\n",
       "      <td>17</td>\n",
       "    </tr>\n",
       "    <tr>\n",
       "      <th>3937</th>\n",
       "      <td>TXN-50500</td>\n",
       "      <td>2015-08-10</td>\n",
       "      <td>ALTENWERTH</td>\n",
       "      <td>JUWAN</td>\n",
       "      <td>1992-08-31</td>\n",
       "      <td>MayMall</td>\n",
       "      <td>Rebond</td>\n",
       "      <td>400.231230</td>\n",
       "      <td>22</td>\n",
       "    </tr>\n",
       "    <tr>\n",
       "      <th>3945</th>\n",
       "      <td>TXN-57165</td>\n",
       "      <td>2020-03-16</td>\n",
       "      <td>ANKUNDING</td>\n",
       "      <td>CONNOR</td>\n",
       "      <td>2006-02-08</td>\n",
       "      <td>Megamall</td>\n",
       "      <td>Haircut</td>\n",
       "      <td>66.123457</td>\n",
       "      <td>14</td>\n",
       "    </tr>\n",
       "  </tbody>\n",
       "</table>\n",
       "</div>"
      ],
      "text/plain": [
       "         txn_id avail_date   last_name first_name   birthday    branch_name  \\\n",
       "3007  TXN-64483 2020-12-28     GERHOLD       KIAN 2001-12-04     MallOfAsia   \n",
       "3027  TXN-33059 2014-04-28       ROHAN       ARON 1998-06-19  RobinsonsMall   \n",
       "3069  TXN-48766 2019-10-06   HALVORSON       RUSS 1999-03-04       Megamall   \n",
       "3088  TXN-09534 2014-04-22    LINDGREN    ROBERTO 1994-01-11      FrankMall   \n",
       "3266  TXN-20416 2017-11-05    MCKENZIE     DELPHA 1998-12-07       Starmall   \n",
       "3276  TXN-50378 2022-07-11       BAYER     CAROLE 2005-12-14       Megamall   \n",
       "3308  TXN-50378 2015-01-03       BAYER     CAROLE 2005-12-14       Megamall   \n",
       "3339  TXN-26009 2022-05-25    ONDRICKA     DALTON 2002-12-16  RobinsonsMall   \n",
       "3358  TXN-00733 2007-10-16     CARROLL      DUANE 1990-08-25        MayMall   \n",
       "3415  TXN-13676 2018-12-19    BAUMBACH   TORRANCE 2010-10-16      SmallMall   \n",
       "3420  TXN-23094 2015-11-08      RAYNOR     CARLIE 1993-06-10       Megamall   \n",
       "3452  TXN-23094 2023-01-06      RAYNOR     CARLIE 1993-06-10       Megamall   \n",
       "3487  TXN-48316 2011-02-27        VEUM      DEREK 1998-06-09      FrankMall   \n",
       "3505  TXN-48316 2012-05-12        VEUM      DEREK 1998-06-09      FrankMall   \n",
       "3560  TXN-54642 2014-08-09     SCHMITT     CURTIS 1995-02-02      SmallMall   \n",
       "3598  TXN-64356 2019-08-26    MITCHELL      ROCIO 2008-01-06  RobinsonsMall   \n",
       "3625  TXN-37647 2017-05-14    MITCHELL       MACY 1999-10-28        MayMall   \n",
       "3710  TXN-62766 2017-03-15    SCHULIST   DELPHINE 2007-05-07        MayMall   \n",
       "3718  TXN-62766 2016-06-30    SCHULIST   DELPHINE 2007-05-07        MayMall   \n",
       "3742  TXN-23581 2014-12-04        RATH      JASON 1998-12-28      SmallMall   \n",
       "3750  TXN-23581 2010-09-25        RATH      JASON 1998-12-28      SmallMall   \n",
       "3759  TXN-38091 2019-06-29    GORCZANY      DEVON 1990-02-12     MallOfAsia   \n",
       "3770  TXN-05769 2018-05-28    EICHMANN       OWEN 1997-10-08        MayMall   \n",
       "3785  TXN-11899 2016-12-19    BERNHARD    BREANNA 1990-03-25  RobinsonsMall   \n",
       "3863  TXN-57791 2018-01-25   AUFDERHAR      NIGEL 1992-05-26        MayMall   \n",
       "3911  TXN-58184 2012-05-03   HETTINGER    AMERICA 1993-03-23     MallOfAsia   \n",
       "3917  TXN-24215 2022-09-03      JEWESS     JUNIUS 1994-04-12      SmallMall   \n",
       "3922  TXN-59723 2013-01-23        HAAG      VELVA 1995-07-20        MayMall   \n",
       "3937  TXN-50500 2015-08-10  ALTENWERTH      JUWAN 1992-08-31        MayMall   \n",
       "3945  TXN-57165 2020-03-16   ANKUNDING     CONNOR 2006-02-08       Megamall   \n",
       "\n",
       "        service       price  age_during_avail  \n",
       "3007    FootSpa  100.121230                19  \n",
       "3027   Pedicure   77.987989                15  \n",
       "3069     Rebond  400.231230                20  \n",
       "3088    FootSpa  100.121230                20  \n",
       "3266  NailColor   30.123790                18  \n",
       "3276   Pedicure   77.987989                16  \n",
       "3308   Pedicure   77.987989                15  \n",
       "3339  NailColor   30.123790                19  \n",
       "3358     Rebond  400.231230                17  \n",
       "3415   Pedicure   77.987989                24  \n",
       "3420   Manicure   55.232400                17  \n",
       "3452   Manicure   55.232400                29  \n",
       "3487   Pedicure   77.987989                14  \n",
       "3505   Pedicure   77.987989                13  \n",
       "3560    FootSpa  100.121230                19  \n",
       "3598    FootSpa  100.121230                11  \n",
       "3625    FootSpa  100.121230                17  \n",
       "3710    FootSpa  100.121230                 9  \n",
       "3718    FootSpa  100.121230                17  \n",
       "3742    FootSpa  100.121230                15  \n",
       "3750    FootSpa  100.121230                 9  \n",
       "3759    FootSpa  100.121230                29  \n",
       "3770     Rebond  400.231230                20  \n",
       "3785   Manicure   55.232400                26  \n",
       "3863   Pedicure   77.987989                25  \n",
       "3911     Rebond  400.231230                19  \n",
       "3917    FootSpa  100.121230                28  \n",
       "3922    FootSpa  100.121230                17  \n",
       "3937     Rebond  400.231230                22  \n",
       "3945    Haircut   66.123457                14  "
      ]
     },
     "execution_count": 59,
     "metadata": {},
     "output_type": "execute_result"
    }
   ],
   "source": [
    "df_merged.iloc[100:130]"
   ]
  },
  {
   "cell_type": "markdown",
   "id": "3ab8a2ba-7559-43bf-babe-0c4915447fbf",
   "metadata": {},
   "source": [
    "## Data to Database using SQLite"
   ]
  },
  {
   "cell_type": "code",
   "execution_count": 60,
   "id": "fdf42c08-ea9f-422e-bf50-8bb785c76650",
   "metadata": {},
   "outputs": [],
   "source": [
    "import sqlite3\n",
    "\n",
    "db_connection = sqlite3.connect('clean_data.db')\n",
    "cursor = db_connection.cursor()\n",
    "df_merged.to_sql('clean_data', db_connection, index=False, if_exists='replace')\n",
    "\n",
    "# Commit changes and close the connection\n",
    "db_connection.commit()\n",
    "db_connection.close()"
   ]
  },
  {
   "cell_type": "code",
   "execution_count": 61,
   "id": "b8361bbd-706d-4628-ae5a-25a8568a4fdf",
   "metadata": {
    "scrolled": true
   },
   "outputs": [
    {
     "name": "stdout",
     "output_type": "stream",
     "text": [
      "(18624, 9)\n"
     ]
    }
   ],
   "source": [
    "print(df_merged.shape)"
   ]
  },
  {
   "cell_type": "markdown",
   "id": "d1e2983c-f38e-4293-a56e-c8a41b0f667f",
   "metadata": {},
   "source": [
    "## WEEKLY SALES PER SERVICE"
   ]
  },
  {
   "cell_type": "code",
   "execution_count": 62,
   "id": "fb59fa6f-eabb-4fa1-9997-70e013cd59e9",
   "metadata": {},
   "outputs": [
    {
     "data": {
      "text/html": [
       "<div>\n",
       "<style scoped>\n",
       "    .dataframe tbody tr th:only-of-type {\n",
       "        vertical-align: middle;\n",
       "    }\n",
       "\n",
       "    .dataframe tbody tr th {\n",
       "        vertical-align: top;\n",
       "    }\n",
       "\n",
       "    .dataframe thead th {\n",
       "        text-align: right;\n",
       "    }\n",
       "</style>\n",
       "<table border=\"1\" class=\"dataframe\">\n",
       "  <thead>\n",
       "    <tr style=\"text-align: right;\">\n",
       "      <th></th>\n",
       "      <th></th>\n",
       "      <th>price</th>\n",
       "    </tr>\n",
       "    <tr>\n",
       "      <th>service</th>\n",
       "      <th>avail_date</th>\n",
       "      <th></th>\n",
       "    </tr>\n",
       "  </thead>\n",
       "  <tbody>\n",
       "    <tr>\n",
       "      <th rowspan=\"5\" valign=\"top\">FootSpa</th>\n",
       "      <th>2005-01-03/2005-01-09</th>\n",
       "      <td>200.24246</td>\n",
       "    </tr>\n",
       "    <tr>\n",
       "      <th>2005-01-10/2005-01-16</th>\n",
       "      <td>200.24246</td>\n",
       "    </tr>\n",
       "    <tr>\n",
       "      <th>2005-01-17/2005-01-23</th>\n",
       "      <td>400.48492</td>\n",
       "    </tr>\n",
       "    <tr>\n",
       "      <th>2005-01-24/2005-01-30</th>\n",
       "      <td>100.12123</td>\n",
       "    </tr>\n",
       "    <tr>\n",
       "      <th>2005-01-31/2005-02-06</th>\n",
       "      <td>200.24246</td>\n",
       "    </tr>\n",
       "    <tr>\n",
       "      <th>...</th>\n",
       "      <th>...</th>\n",
       "      <td>...</td>\n",
       "    </tr>\n",
       "    <tr>\n",
       "      <th rowspan=\"5\" valign=\"top\">Rebond</th>\n",
       "      <th>2023-10-23/2023-10-29</th>\n",
       "      <td>1600.92492</td>\n",
       "    </tr>\n",
       "    <tr>\n",
       "      <th>2023-10-30/2023-11-05</th>\n",
       "      <td>2801.61861</td>\n",
       "    </tr>\n",
       "    <tr>\n",
       "      <th>2023-11-06/2023-11-12</th>\n",
       "      <td>2001.15615</td>\n",
       "    </tr>\n",
       "    <tr>\n",
       "      <th>2023-11-13/2023-11-19</th>\n",
       "      <td>1600.92492</td>\n",
       "    </tr>\n",
       "    <tr>\n",
       "      <th>2023-11-20/2023-11-26</th>\n",
       "      <td>800.46246</td>\n",
       "    </tr>\n",
       "  </tbody>\n",
       "</table>\n",
       "<p>5215 rows × 1 columns</p>\n",
       "</div>"
      ],
      "text/plain": [
       "                                    price\n",
       "service avail_date                       \n",
       "FootSpa 2005-01-03/2005-01-09   200.24246\n",
       "        2005-01-10/2005-01-16   200.24246\n",
       "        2005-01-17/2005-01-23   400.48492\n",
       "        2005-01-24/2005-01-30   100.12123\n",
       "        2005-01-31/2005-02-06   200.24246\n",
       "...                                   ...\n",
       "Rebond  2023-10-23/2023-10-29  1600.92492\n",
       "        2023-10-30/2023-11-05  2801.61861\n",
       "        2023-11-06/2023-11-12  2001.15615\n",
       "        2023-11-13/2023-11-19  1600.92492\n",
       "        2023-11-20/2023-11-26   800.46246\n",
       "\n",
       "[5215 rows x 1 columns]"
      ]
     },
     "execution_count": 62,
     "metadata": {},
     "output_type": "execute_result"
    }
   ],
   "source": [
    "df_merged['avail_date'] = pd.to_datetime(df_merged['avail_date'])\n",
    "df_merged.groupby(['service', df_merged['avail_date'].dt.to_period('W')])['price'].sum().to_frame()"
   ]
  },
  {
   "cell_type": "code",
   "execution_count": 63,
   "id": "43ced4bc-246d-49eb-aae4-0a1043408ffe",
   "metadata": {},
   "outputs": [],
   "source": [
    "df_merged.to_parquet(\"merged_weekly_per_service.parquet\")"
   ]
  }
 ],
 "metadata": {
  "kernelspec": {
   "display_name": "Python 3 (ipykernel)",
   "language": "python",
   "name": "python3"
  },
  "language_info": {
   "codemirror_mode": {
    "name": "ipython",
    "version": 3
   },
   "file_extension": ".py",
   "mimetype": "text/x-python",
   "name": "python",
   "nbconvert_exporter": "python",
   "pygments_lexer": "ipython3",
   "version": "3.12.0"
  }
 },
 "nbformat": 4,
 "nbformat_minor": 5
}
